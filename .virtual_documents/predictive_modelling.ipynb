# Libraries
import pandas as pd
import numpy as np
from janitor import clean_names
from sklearn.pipeline import Pipeline
from sklearn.preprocessing import OneHotEncoder, StandardScaler, LabelEncoder
from sklearn.compose import ColumnTransformer
from sklearn.linear_model import LogisticRegression
from sklearn.model_selection import cross_val_score
from sklearn.metrics import mean_absolute_error
from sklearn.metrics import roc_auc_score
from sklearn.ensemble import RandomForestClassifier


# Read in neighbourhood ratings
neighbourhood = pd.read_csv("data/neighbourhood_rating.csv").clean_names()

# Read in community ratings
community = pd.read_csv("data/community_belonging.csv").clean_names()


# Joining the two datasets.
survey = (
    pd.merge(neighbourhood, community, how='outer')
    .query("featurecode != 'S92000003' & measurement == 'Percent'")
    .drop(columns=['measurement', 'units', 'featurecode'])
    .fillna('All')
)

survey.sample(10)


# Good neighbourhood rating
survey.loc[:, 'good_neighbourhood'] = np.where(
    survey['neighbourhood_rating'].isin(['Very good', 'Fairly good']),
    1, 0)

# Good community belonging feeling
survey.loc[:, 'good_community'] = np.where(
    survey['community_belonging'].isin(['Very strongly', 'Fairly strongly']),
    1, 0)

# Green space access
survey.loc[:, 'green_access'] = np.where(
    survey['walking_distance_to_nearest_greenspace'] == 'Less than 10 minutes',
    1, 0)

# Owners
survey.loc[:, 'owners'] = np.where(
    survey['type_of_tenure'].isin(['Owned Outright', 'Owned Mortgage/Loan']),
    1, 0)

# Tenants
survey.loc[:, 'tenants'] = np.where(
    survey['type_of_tenure'].isin(['Social Rented', 'Private Rented']),
    1, 0)

# Pensioners
survey.loc[:, 'pensioners'] = np.where(
    survey['household_type'] == 'Pensioners',
    1, 0)

# children
survey.loc[:, 'children'] = np.where(
    survey['household_type'] == 'With Children',
    1, 0)

# Urban
survey.loc[:, 'urban'] = np.where(
    survey['urban_rural_classification'] == 'Urban',
    1, 0)

# Female
survey.loc[:, 'female'] = np.where(
    survey['gender'] == 'Female',
    1, 0)

# Lowest quintile
survey.loc[:, 'lowest_quintile'] = np.where(
    survey['simd_quintiles'] == '20% most deprived',
    1, 0)

# White ethnicity
survey.loc[:, 'white_ethnicity'] = np.where(
    survey['ethnicity'] == 'White',
    1, 0)

survey = survey.drop(columns=[
    'neighbourhood_rating', 'gender', 'urban_rural_classification',
    'simd_quintiles', 'type_of_tenure', 'household_type', 'ethnicity',
    'walking_distance_to_nearest_greenspace', 'community_belonging']).copy()


survey.sample(20)


survey.good_neighbourhood.value_counts()[1] / survey.good_neighbourhood.value_counts()[0]


survey.datecode.value_counts()


# Train and test split
train = survey.query("datecode != 2019").drop('datecode', axis=1)

test = survey.query("datecode == 2019").drop('datecode', axis=1)

# Now drop both targets from the predictor sets
X_test = test.drop(columns=['good_neighbourhood', 'good_community'])
X_train = train.drop(columns=['good_neighbourhood', 'good_community'])

# Create both targets
community_test = test.good_community
community_train = train.good_community

neighbourhood_test = test.good_neighbourhood
neighbourhood_train = train.good_neighbourhood


# The ColumnTransformer allows for treating incoming data differently depending on its type (categorical, or numerical in the case of the value column)
log_pipe = Pipeline([
    ('split', ColumnTransformer([
        ('green_access', 
         OneHotEncoder(categories=[survey.green_access.unique()], drop='first', handle_unknown='error'), ['green_access']),
        ('owners', 
         OneHotEncoder(categories=[survey.owners.unique()], drop='first', handle_unknown='error'), ['owners']), 
        ('tenants', 
         OneHotEncoder(categories=[survey.tenants.unique()], drop='first', handle_unknown='error'), ['tenants']), 
        ('pensioners', 
         OneHotEncoder(categories=[survey.pensioners.unique()], drop='first', handle_unknown='error'), ['pensioners']),
         ('children', 
         OneHotEncoder(categories=[survey.children.unique()], drop='first', handle_unknown='error'), ['children']),
        ('urban', 
         OneHotEncoder(categories=[survey.urban.unique()], drop='first', handle_unknown='error'), ['urban']),
         ('female', 
         OneHotEncoder(categories=[survey.female.unique()], drop='first', handle_unknown='error'), ['female']),
         ('lowest_quintile', 
         OneHotEncoder(categories=[survey.lowest_quintile.unique()], drop='first', handle_unknown='error'), ['lowest_quintile']),
         ('white_ethnicity', 
         OneHotEncoder(categories=[survey.white_ethnicity.unique()], drop='first', handle_unknown='error'), ['white_ethnicity']),
        ('value', Pipeline([
                ('scale', StandardScaler())
            ]), ['value'])
    ])),
    # ('poly', PolynomialFeatures(degree=2, include_bias=False, interaction_only=True)),
    ('classifier', LogisticRegression())
])


# Fitting the model to the train set for the neighbourhood rating
log_pipe.fit(X_train, neighbourhood_train);


print('MAE train for Logistic Regression:', mean_absolute_error(neighbourhood_train, log_pipe.predict(X_train)))
print('MAE test for Logistic Regression:', mean_absolute_error(neighbourhood_test, log_pipe.predict(X_test)))


print(f"Logistic Regression model train mean accuracy: {cross_val_score(log_pipe, X_train, community_train, scoring='accuracy', cv=5).mean()}.");
print(f"Logistic Regression model test mean accuracy: {cross_val_score(log_pipe, X_test, community_test, scoring='accuracy', cv=5).mean()}.");


print('AUC train for Logistic Regression:', roc_auc_score(neighbourhood_train, log_pipe.predict(X_train)))
print('AUC test for Logistic Regression:', roc_auc_score(neighbourhood_test, log_pipe.predict(X_test)))


# Fitting the model to the train set for the community belonging rating
log_pipe.fit(X_train, community_train);


print('MAE train for Logistic Regression:', mean_absolute_error(community_train, log_pipe.predict(X_train)))
print('MAE test for Logistic Regression:', mean_absolute_error(community_test, log_pipe.predict(X_test)))


print(f"Logistic Regression model train mean accuracy: {cross_val_score(log_pipe, X_train, community_train, scoring='accuracy', cv=5).mean()}.")
print(f"Logistic Regression model test mean accuracy: {cross_val_score(log_pipe, X_test, community_test, scoring='accuracy', cv=5).mean()}.")


print('AUC train for Logistic Regression:', roc_auc_score(community_train, log_pipe.predict(X_train)))
print('AUC test for Logistic Regression:', roc_auc_score(community_test, log_pipe.predict(X_test)))


raw_survey = (
    pd.merge(neighbourhood, community, how='outer')
    .query("featurecode != 'S92000003' & measurement == 'Percent'")
    .drop(columns=['measurement', 'units', 'featurecode'])
    .fillna('All')
)

raw_survey.sample(10)


# ProfileReport(raw_survey)


rf_pipe = Pipeline([
    ('split', ColumnTransformer([
        ('gender', 
         OneHotEncoder(categories=[raw_survey.gender.unique()], drop='first', handle_unknown='error'), ['gender']), 
        ('urban_rural_classification', 
         OneHotEncoder(categories=[raw_survey.urban_rural_classification.unique()], drop='first', handle_unknown='error'), ['urban_rural_classification']), 
        ('simd_quintiles', 
         OneHotEncoder(categories=[raw_survey.simd_quintiles.unique()], drop='first', handle_unknown='error'), ['simd_quintiles']),
         ('type_of_tenure', 
         OneHotEncoder(categories=[raw_survey.type_of_tenure.unique()], drop='first', handle_unknown='error'), ['type_of_tenure']),
        ('household_type', 
         OneHotEncoder(categories=[raw_survey.household_type.unique()], drop='first', handle_unknown='error'), ['household_type']),
         ('ethnicity', 
         OneHotEncoder(categories=[raw_survey.ethnicity.unique()], drop='first', handle_unknown='error'), ['ethnicity']),
         ('walking_distance_to_nearest_greenspace', 
         OneHotEncoder(categories=[raw_survey.walking_distance_to_nearest_greenspace.unique()], drop='first', handle_unknown='error'), ['walking_distance_to_nearest_greenspace']),
        ('value', Pipeline([
                ('scale', StandardScaler())
            ]), ['value'])
    ])),
    ('classifier', RandomForestClassifier())
])


# Train and test split
train = raw_survey.query("datecode != 2019").drop('datecode', axis=1)

test = raw_survey.query("datecode == 2019").drop('datecode', axis=1)

# Now drop both targets from the predictor sets
X_test = test.drop(columns=['neighbourhood_rating', 'community_belonging'])
X_train = train.drop(columns=['neighbourhood_rating', 'community_belonging'])

# Create both targets
community_test = test.community_belonging
community_train = train.community_belonging

neighbourhood_test = test.neighbourhood_rating
neighbourhood_train = train.neighbourhood_rating

# Start the label encoder to turn response types into numbers
le = LabelEncoder()


# Fitting the model to the train set for the neighbourhood rating, including fitting to the encoded labels
le.fit(neighbourhood_train)
rf_pipe.fit(X_train, le.transform(neighbourhood_train));


# This is to show what the encoded labels are
le.classes_


dummy_train = pd.get_dummies(X_train)

rf = RandomForestClassifier()
rf.fit(dummy_train, le.transform(neighbourhood_train))


dummy_test = pd.get_dummies(X_test)
rf.score(dummy_test, le.transform(neighbourhood_test))


print(f"Logistic Regression model train mean accuracy: {cross_val_score(rf_pipe, X_train, le.transform(neighbourhood_train), scoring='accuracy', cv=5).mean()}.");
print(f"Logistic Regression model test mean accuracy: {cross_val_score(rf_pipe, X_test, le.transform(neighbourhood_test), scoring='accuracy', cv=5).mean()}.");


# Fitting the model to the train set for the neighbourhood rating, including fitting to the encoded labels
le.fit(community_train)
rf_pipe.fit(X_train, le.transform(community_train));


# This is to show what the encoded labels are
le.classes_


dummy_train = pd.get_dummies(X_train)

rf = RandomForestClassifier()
rf.fit(dummy_train, le.transform(community_train))


dummy_test = pd.get_dummies(X_test)
rf.score(dummy_test, le.transform(community_test))


print(f"Logistic Regression model train mean accuracy: {cross_val_score(rf_pipe, X_train, le.transform(community_train), scoring='accuracy', cv=5).mean()}.");
print(f"Logistic Regression model test mean accuracy: {cross_val_score(rf_pipe, X_test, le.transform(community_test), scoring='accuracy', cv=5).mean()}.");
