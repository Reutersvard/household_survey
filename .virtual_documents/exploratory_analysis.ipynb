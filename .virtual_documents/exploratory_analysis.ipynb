# Libraries
import pandas as pd
import numpy as np
import janitor
# from pandas_profiling import ProfileReport
import plotly.express as px
from helpers import bar_plotter, merger, greenspace_plotter, df_std


# Read in distance to green spaces
distance = pd.read_csv("data/green_spaces.csv").clean_names()

# Read in neighbourhood ratings
neighbourhood = pd.read_csv("data/neighbourhood_rating.csv").clean_names()

#Read in community ratings
community = pd.read_csv("data/community_belonging.csv").clean_names()


distance


distance.distance_to_nearest_green_or_blue_space.value_counts()


community.walking_distance_to_nearest_greenspace.value_counts()


neighbourhood.neighbourhood_rating.value_counts()


community.community_belonging.value_counts()


survey = merger(distance, community, neighbourhood)


# These are the resulting bins and counts for the new variable
survey.nearest_green_space.value_counts()


# Filtering out regional values for analysis
survey = survey.query("featurecode == 'S92000003'").drop('featurecode', axis=1)


distance.age.unique()


survey.sample(10)


# ProfileReport(survey)


(survey.query("nearest_green_space == 'A 5 minute walk or less'")
 .sort_values('percent_adults', ascending=False)
).head(20)


df = (survey.query(
    "nearest_green_space == 'A 5 minute walk or less' & urban_rural_classification != 'All'")
      .sort_values('year')
     )

df.head(10)


df = (survey.query(
    "nearest_green_space == 'A 5 minute walk or less' & type_of_tenure != 'All'")
      .sort_values('year')
     )

df.head(10)


greenspace_plotter(survey, 'urban_rural_classification', 'short')


   view = (
        distance.query("urban_rural_classification != 'All' & distance_to_nearest_green_or_blue_space == 'A 5 minute walk or less'")
        .groupby(['datecode', 'urban_rural_classification'])
        .mean('value')
        .reset_index()
        .sort_values('datecode')
    )

fig = (px.line(view, x="datecode", y="value", color='urban_rural_classification',
               title=f'Percentage of adults living a 5 minute walk or less from green spaces', markers=True))
fig.show()


greenspace_plotter(survey, 'type_of_tenure', 'short')


(survey.query("nearest_green_space == 'An 11 minute walk or more' & community_belonging == 'All' & neighbourhood_rating == 'All'")
 .sort_values('percent_adults', ascending=False)
).head(20)


greenspace_plotter(survey, 'ethnicity', 'long')


greenspace_plotter(survey, 'household_type', 'long')


greenspace_plotter(survey, 'simd_quintiles', 'long')


# This calculates the average for each group
view = (survey.query("nearest_green_space == 'An 11 minute walk or more' & type_of_tenure != 'All'")
        .groupby(['type_of_tenure'])
        .mean()
        .drop('year', axis=1)
        .sort_values('percent_adults')
)
view


# The standard deviation is:
view.std()


df_std(survey, 'nearest_green_space', 'An 11 minute walk or more')


greenspace_plotter(survey, 'age', 'long')


greenspace_plotter(survey, 'neighbourhood_rating', 'long')


greenspace_plotter(survey, 'community_belonging', 'long')


bar_plotter(survey, 'community_belonging', 'percent_adults', 'nearest_green_space')


bar_plotter(survey, 'neighbourhood_rating', 'percent_adults', 'nearest_green_space')


bar_plotter(survey, 'age', 'percent_adults', 'nearest_green_space')


bar_plotter(survey, 'type_of_tenure', 'percent_adults', 'nearest_green_space')
