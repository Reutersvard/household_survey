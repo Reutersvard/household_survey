{
 "cells": [
  {
   "cell_type": "markdown",
   "id": "48a710b9-dedd-4922-91e0-3e46e17023b7",
   "metadata": {},
   "source": [
    "# Model building: predicting neighbourhood rating and community belonging"
   ]
  },
  {
   "cell_type": "code",
   "execution_count": 1,
   "id": "e94f13a6-781f-4862-9888-8a7da63b3aad",
   "metadata": {
    "ExecuteTime": {
     "end_time": "2022-02-13T18:46:53.068341Z",
     "start_time": "2022-02-13T18:46:52.193438Z"
    }
   },
   "outputs": [],
   "source": [
    "# Libraries\n",
    "import pandas as pd\n",
    "import numpy as np\n",
    "from janitor import clean_names\n",
    "from sklearn.pipeline import Pipeline\n",
    "from sklearn.preprocessing import OneHotEncoder, StandardScaler, LabelEncoder\n",
    "from sklearn.compose import ColumnTransformer\n",
    "from sklearn.linear_model import LogisticRegression\n",
    "from sklearn.model_selection import cross_val_score\n",
    "from sklearn.metrics import mean_absolute_error\n",
    "from sklearn.metrics import roc_auc_score\n",
    "from sklearn.ensemble import RandomForestClassifier"
   ]
  },
  {
   "cell_type": "markdown",
   "id": "3c3741e7-755b-4681-a0ac-a7c95306ebb0",
   "metadata": {
    "tags": []
   },
   "source": [
    "# Data preparation\n",
    "\n",
    "The approach will be different from data preparation in the exploratory analysis. The aim will be to preserve as many data points as possible, whist reducing the cardinality of the many categorical variables. Given the targets to be predicted, only two datasets will be necessary, as they both contain the same columns except for the two dependent variables, neighbourhood rating and community belonging."
   ]
  },
  {
   "cell_type": "code",
   "execution_count": 2,
   "id": "2efcb4ab-d1b0-4680-b52a-475b2db22b5a",
   "metadata": {
    "ExecuteTime": {
     "end_time": "2022-02-13T18:46:55.477074Z",
     "start_time": "2022-02-13T18:46:55.298072Z"
    }
   },
   "outputs": [],
   "source": [
    "# Read in neighbourhood ratings\n",
    "neighbourhood = pd.read_csv(\"data/neighbourhood_rating.csv\").clean_names()\n",
    "\n",
    "# Read in community ratings\n",
    "community = pd.read_csv(\"data/community_belonging.csv\").clean_names()"
   ]
  },
  {
   "cell_type": "code",
   "execution_count": 3,
   "id": "3b5bebd1-88a4-4973-928d-d542fb74e54e",
   "metadata": {
    "ExecuteTime": {
     "end_time": "2022-02-13T20:06:14.244232Z",
     "start_time": "2022-02-13T20:06:13.858545Z"
    }
   },
   "outputs": [
    {
     "data": {
      "text/html": [
       "<div>\n",
       "<style scoped>\n",
       "    .dataframe tbody tr th:only-of-type {\n",
       "        vertical-align: middle;\n",
       "    }\n",
       "\n",
       "    .dataframe tbody tr th {\n",
       "        vertical-align: top;\n",
       "    }\n",
       "\n",
       "    .dataframe thead th {\n",
       "        text-align: right;\n",
       "    }\n",
       "</style>\n",
       "<table border=\"1\" class=\"dataframe\">\n",
       "  <thead>\n",
       "    <tr style=\"text-align: right;\">\n",
       "      <th></th>\n",
       "      <th>datecode</th>\n",
       "      <th>value</th>\n",
       "      <th>neighbourhood_rating</th>\n",
       "      <th>gender</th>\n",
       "      <th>urban_rural_classification</th>\n",
       "      <th>simd_quintiles</th>\n",
       "      <th>type_of_tenure</th>\n",
       "      <th>household_type</th>\n",
       "      <th>ethnicity</th>\n",
       "      <th>walking_distance_to_nearest_greenspace</th>\n",
       "      <th>community_belonging</th>\n",
       "    </tr>\n",
       "  </thead>\n",
       "  <tbody>\n",
       "    <tr>\n",
       "      <th>11087</th>\n",
       "      <td>2014</td>\n",
       "      <td>0.0</td>\n",
       "      <td>No opinion</td>\n",
       "      <td>All</td>\n",
       "      <td>All</td>\n",
       "      <td>All</td>\n",
       "      <td>All</td>\n",
       "      <td>All</td>\n",
       "      <td>White</td>\n",
       "      <td>All</td>\n",
       "      <td>All</td>\n",
       "    </tr>\n",
       "    <tr>\n",
       "      <th>72160</th>\n",
       "      <td>2019</td>\n",
       "      <td>38.0</td>\n",
       "      <td>All</td>\n",
       "      <td>All</td>\n",
       "      <td>All</td>\n",
       "      <td>All</td>\n",
       "      <td>Owned Mortgage/Loan</td>\n",
       "      <td>All</td>\n",
       "      <td>All</td>\n",
       "      <td>All</td>\n",
       "      <td>Very strongly</td>\n",
       "    </tr>\n",
       "    <tr>\n",
       "      <th>24268</th>\n",
       "      <td>2018</td>\n",
       "      <td>7.0</td>\n",
       "      <td>Fairly poor</td>\n",
       "      <td>All</td>\n",
       "      <td>Urban</td>\n",
       "      <td>All</td>\n",
       "      <td>All</td>\n",
       "      <td>All</td>\n",
       "      <td>All</td>\n",
       "      <td>All</td>\n",
       "      <td>All</td>\n",
       "    </tr>\n",
       "    <tr>\n",
       "      <th>762</th>\n",
       "      <td>2015</td>\n",
       "      <td>2.0</td>\n",
       "      <td>Fairly poor</td>\n",
       "      <td>All</td>\n",
       "      <td>All</td>\n",
       "      <td>All</td>\n",
       "      <td>All</td>\n",
       "      <td>All</td>\n",
       "      <td>All</td>\n",
       "      <td>Less than 10 minutes</td>\n",
       "      <td>All</td>\n",
       "    </tr>\n",
       "    <tr>\n",
       "      <th>71342</th>\n",
       "      <td>2018</td>\n",
       "      <td>39.0</td>\n",
       "      <td>All</td>\n",
       "      <td>All</td>\n",
       "      <td>All</td>\n",
       "      <td>All</td>\n",
       "      <td>Owned Mortgage/Loan</td>\n",
       "      <td>All</td>\n",
       "      <td>All</td>\n",
       "      <td>All</td>\n",
       "      <td>Very strongly</td>\n",
       "    </tr>\n",
       "    <tr>\n",
       "      <th>23799</th>\n",
       "      <td>2016</td>\n",
       "      <td>1.0</td>\n",
       "      <td>Fairly poor</td>\n",
       "      <td>All</td>\n",
       "      <td>Urban</td>\n",
       "      <td>All</td>\n",
       "      <td>All</td>\n",
       "      <td>All</td>\n",
       "      <td>All</td>\n",
       "      <td>All</td>\n",
       "      <td>Don't know</td>\n",
       "    </tr>\n",
       "    <tr>\n",
       "      <th>3735</th>\n",
       "      <td>2019</td>\n",
       "      <td>49.0</td>\n",
       "      <td>Very good</td>\n",
       "      <td>All</td>\n",
       "      <td>All</td>\n",
       "      <td>All</td>\n",
       "      <td>All</td>\n",
       "      <td>All</td>\n",
       "      <td>All</td>\n",
       "      <td>Less than 10 minutes</td>\n",
       "      <td>All</td>\n",
       "    </tr>\n",
       "    <tr>\n",
       "      <th>48849</th>\n",
       "      <td>2014</td>\n",
       "      <td>47.0</td>\n",
       "      <td>All</td>\n",
       "      <td>All</td>\n",
       "      <td>Urban</td>\n",
       "      <td>All</td>\n",
       "      <td>All</td>\n",
       "      <td>All</td>\n",
       "      <td>All</td>\n",
       "      <td>All</td>\n",
       "      <td>Fairly strongly</td>\n",
       "    </tr>\n",
       "    <tr>\n",
       "      <th>60214</th>\n",
       "      <td>2018</td>\n",
       "      <td>29.0</td>\n",
       "      <td>All</td>\n",
       "      <td>All</td>\n",
       "      <td>All</td>\n",
       "      <td>All</td>\n",
       "      <td>All</td>\n",
       "      <td>With Children</td>\n",
       "      <td>All</td>\n",
       "      <td>All</td>\n",
       "      <td>Very strongly</td>\n",
       "    </tr>\n",
       "    <tr>\n",
       "      <th>45764</th>\n",
       "      <td>2019</td>\n",
       "      <td>3.0</td>\n",
       "      <td>All</td>\n",
       "      <td>Male</td>\n",
       "      <td>All</td>\n",
       "      <td>All</td>\n",
       "      <td>All</td>\n",
       "      <td>All</td>\n",
       "      <td>All</td>\n",
       "      <td>All</td>\n",
       "      <td>Not at all strongly</td>\n",
       "    </tr>\n",
       "  </tbody>\n",
       "</table>\n",
       "</div>"
      ],
      "text/plain": [
       "       datecode  value neighbourhood_rating gender urban_rural_classification  \\\n",
       "11087      2014    0.0           No opinion    All                        All   \n",
       "72160      2019   38.0                  All    All                        All   \n",
       "24268      2018    7.0          Fairly poor    All                      Urban   \n",
       "762        2015    2.0          Fairly poor    All                        All   \n",
       "71342      2018   39.0                  All    All                        All   \n",
       "23799      2016    1.0          Fairly poor    All                      Urban   \n",
       "3735       2019   49.0            Very good    All                        All   \n",
       "48849      2014   47.0                  All    All                      Urban   \n",
       "60214      2018   29.0                  All    All                        All   \n",
       "45764      2019    3.0                  All   Male                        All   \n",
       "\n",
       "      simd_quintiles       type_of_tenure household_type ethnicity  \\\n",
       "11087            All                  All            All     White   \n",
       "72160            All  Owned Mortgage/Loan            All       All   \n",
       "24268            All                  All            All       All   \n",
       "762              All                  All            All       All   \n",
       "71342            All  Owned Mortgage/Loan            All       All   \n",
       "23799            All                  All            All       All   \n",
       "3735             All                  All            All       All   \n",
       "48849            All                  All            All       All   \n",
       "60214            All                  All  With Children       All   \n",
       "45764            All                  All            All       All   \n",
       "\n",
       "      walking_distance_to_nearest_greenspace  community_belonging  \n",
       "11087                                    All                  All  \n",
       "72160                                    All        Very strongly  \n",
       "24268                                    All                  All  \n",
       "762                     Less than 10 minutes                  All  \n",
       "71342                                    All        Very strongly  \n",
       "23799                                    All           Don't know  \n",
       "3735                    Less than 10 minutes                  All  \n",
       "48849                                    All      Fairly strongly  \n",
       "60214                                    All        Very strongly  \n",
       "45764                                    All  Not at all strongly  "
      ]
     },
     "execution_count": 3,
     "metadata": {},
     "output_type": "execute_result"
    }
   ],
   "source": [
    "# Joining the two datasets.\n",
    "survey = (\n",
    "    pd.merge(neighbourhood, community, how='outer')\n",
    "    .query(\"featurecode != 'S92000003' & measurement == 'Percent'\")\n",
    "    .drop(columns=['measurement', 'units', 'featurecode'])\n",
    "    .fillna('All')\n",
    ")\n",
    "\n",
    "survey.sample(10)"
   ]
  },
  {
   "cell_type": "markdown",
   "id": "e7b4e879-ad8e-4968-a00c-c12f7168f054",
   "metadata": {},
   "source": [
    "As already mentioned, many of the variables are categorical and show high cardinality, but do not fully explain the variation in the percentage of adults that fall into that category (see exploratory analysis report for more details). This is particularly true of our targets: community belonging and neighbourhood rating. For these reasons, many features will be engineered into binary classifiers that will hopefully better capture data variation, and simplify model building.\n",
    "\n",
    "Additionally, confidence intervals and region codes have been dropped and the data points taken as country-wide statistical variation. In order to drop these two columns upper and lower bounds for the confidence intervals and the feature code for Scotland as a whole have been filtered out."
   ]
  },
  {
   "cell_type": "markdown",
   "id": "8b8f693b-dd28-4552-8614-81373900d6a1",
   "metadata": {},
   "source": [
    "## Feature engineering\n",
    "\n",
    "The following features will be re-binned or engineered:\n",
    "\n",
    "- `walking_distance_to_nearest_greenspace` will become `green_access`, 1 for those who live within 10 min of a green space, 0 otherwise.\n",
    "\n",
    "- `neighbourghood_rating` and `community_belonging` will become `good_neighbourhood` and `good_community`, 1 if they are very/fairly good/strong, and 0 otherwise.\n",
    "\n",
    "- `type_of_tenure` will be replaced by `owner` and `tenant` and their respective binary encoding.\n",
    "\n",
    "- `household_type` will be replaced by `pensioners` and `children` and their respective binary encoding.\n",
    "\n",
    "- The rest of the variables will also be binary encoded."
   ]
  },
  {
   "cell_type": "code",
   "execution_count": 4,
   "id": "ae52d7b6-9c20-4aa9-8f5f-d8a55a84c0d0",
   "metadata": {
    "tags": []
   },
   "outputs": [],
   "source": [
    "# Good neighbourhood rating\n",
    "survey.loc[:, 'good_neighbourhood'] = np.where(\n",
    "    survey['neighbourhood_rating'].isin(['Very good', 'Fairly good']),\n",
    "    1, 0)\n",
    "\n",
    "# Good community belonging feeling\n",
    "survey.loc[:, 'good_community'] = np.where(\n",
    "    survey['community_belonging'].isin(['Very strongly', 'Fairly strongly']),\n",
    "    1, 0)\n",
    "\n",
    "# Green space access\n",
    "survey.loc[:, 'green_access'] = np.where(\n",
    "    survey['walking_distance_to_nearest_greenspace'] == 'Less than 10 minutes',\n",
    "    1, 0)\n",
    "\n",
    "# Owners\n",
    "survey.loc[:, 'owners'] = np.where(\n",
    "    survey['type_of_tenure'].isin(['Owned Outright', 'Owned Mortgage/Loan']),\n",
    "    1, 0)\n",
    "\n",
    "# Tenants\n",
    "survey.loc[:, 'tenants'] = np.where(\n",
    "    survey['type_of_tenure'].isin(['Social Rented', 'Private Rented']),\n",
    "    1, 0)\n",
    "\n",
    "# Pensioners\n",
    "survey.loc[:, 'pensioners'] = np.where(\n",
    "    survey['household_type'] == 'Pensioners',\n",
    "    1, 0)\n",
    "\n",
    "# children\n",
    "survey.loc[:, 'children'] = np.where(\n",
    "    survey['household_type'] == 'With Children',\n",
    "    1, 0)\n",
    "\n",
    "# Urban\n",
    "survey.loc[:, 'urban'] = np.where(\n",
    "    survey['urban_rural_classification'] == 'Urban',\n",
    "    1, 0)\n",
    "\n",
    "# Female\n",
    "survey.loc[:, 'female'] = np.where(\n",
    "    survey['gender'] == 'Female',\n",
    "    1, 0)\n",
    "\n",
    "# Lowest quintile\n",
    "survey.loc[:, 'lowest_quintile'] = np.where(\n",
    "    survey['simd_quintiles'] == '20% most deprived',\n",
    "    1, 0)\n",
    "\n",
    "# White ethnicity\n",
    "survey.loc[:, 'white_ethnicity'] = np.where(\n",
    "    survey['ethnicity'] == 'White',\n",
    "    1, 0)\n",
    "\n",
    "survey = survey.drop(columns=[\n",
    "    'neighbourhood_rating', 'gender', 'urban_rural_classification',\n",
    "    'simd_quintiles', 'type_of_tenure', 'household_type', 'ethnicity',\n",
    "    'walking_distance_to_nearest_greenspace', 'community_belonging']).copy()"
   ]
  },
  {
   "cell_type": "code",
   "execution_count": 5,
   "id": "02a425cc-b520-48b0-8d68-853d34bb416a",
   "metadata": {},
   "outputs": [
    {
     "data": {
      "text/html": [
       "<div>\n",
       "<style scoped>\n",
       "    .dataframe tbody tr th:only-of-type {\n",
       "        vertical-align: middle;\n",
       "    }\n",
       "\n",
       "    .dataframe tbody tr th {\n",
       "        vertical-align: top;\n",
       "    }\n",
       "\n",
       "    .dataframe thead th {\n",
       "        text-align: right;\n",
       "    }\n",
       "</style>\n",
       "<table border=\"1\" class=\"dataframe\">\n",
       "  <thead>\n",
       "    <tr style=\"text-align: right;\">\n",
       "      <th></th>\n",
       "      <th>datecode</th>\n",
       "      <th>value</th>\n",
       "      <th>good_neighbourhood</th>\n",
       "      <th>good_community</th>\n",
       "      <th>green_access</th>\n",
       "      <th>owners</th>\n",
       "      <th>tenants</th>\n",
       "      <th>pensioners</th>\n",
       "      <th>children</th>\n",
       "      <th>urban</th>\n",
       "      <th>female</th>\n",
       "      <th>lowest_quintile</th>\n",
       "      <th>white_ethnicity</th>\n",
       "    </tr>\n",
       "  </thead>\n",
       "  <tbody>\n",
       "    <tr>\n",
       "      <th>29752</th>\n",
       "      <td>2018</td>\n",
       "      <td>85.0</td>\n",
       "      <td>1</td>\n",
       "      <td>0</td>\n",
       "      <td>0</td>\n",
       "      <td>0</td>\n",
       "      <td>0</td>\n",
       "      <td>1</td>\n",
       "      <td>0</td>\n",
       "      <td>0</td>\n",
       "      <td>0</td>\n",
       "      <td>0</td>\n",
       "      <td>0</td>\n",
       "    </tr>\n",
       "    <tr>\n",
       "      <th>55247</th>\n",
       "      <td>2018</td>\n",
       "      <td>36.0</td>\n",
       "      <td>0</td>\n",
       "      <td>1</td>\n",
       "      <td>0</td>\n",
       "      <td>0</td>\n",
       "      <td>0</td>\n",
       "      <td>0</td>\n",
       "      <td>0</td>\n",
       "      <td>0</td>\n",
       "      <td>0</td>\n",
       "      <td>0</td>\n",
       "      <td>1</td>\n",
       "    </tr>\n",
       "    <tr>\n",
       "      <th>60907</th>\n",
       "      <td>2014</td>\n",
       "      <td>2.0</td>\n",
       "      <td>0</td>\n",
       "      <td>0</td>\n",
       "      <td>0</td>\n",
       "      <td>0</td>\n",
       "      <td>0</td>\n",
       "      <td>0</td>\n",
       "      <td>0</td>\n",
       "      <td>0</td>\n",
       "      <td>0</td>\n",
       "      <td>0</td>\n",
       "      <td>1</td>\n",
       "    </tr>\n",
       "    <tr>\n",
       "      <th>71730</th>\n",
       "      <td>2013</td>\n",
       "      <td>40.0</td>\n",
       "      <td>0</td>\n",
       "      <td>1</td>\n",
       "      <td>0</td>\n",
       "      <td>1</td>\n",
       "      <td>0</td>\n",
       "      <td>0</td>\n",
       "      <td>0</td>\n",
       "      <td>0</td>\n",
       "      <td>0</td>\n",
       "      <td>0</td>\n",
       "      <td>0</td>\n",
       "    </tr>\n",
       "    <tr>\n",
       "      <th>28186</th>\n",
       "      <td>2019</td>\n",
       "      <td>54.0</td>\n",
       "      <td>1</td>\n",
       "      <td>0</td>\n",
       "      <td>0</td>\n",
       "      <td>0</td>\n",
       "      <td>0</td>\n",
       "      <td>0</td>\n",
       "      <td>0</td>\n",
       "      <td>0</td>\n",
       "      <td>0</td>\n",
       "      <td>0</td>\n",
       "      <td>0</td>\n",
       "    </tr>\n",
       "    <tr>\n",
       "      <th>40283</th>\n",
       "      <td>2015</td>\n",
       "      <td>3.0</td>\n",
       "      <td>0</td>\n",
       "      <td>0</td>\n",
       "      <td>1</td>\n",
       "      <td>0</td>\n",
       "      <td>0</td>\n",
       "      <td>0</td>\n",
       "      <td>0</td>\n",
       "      <td>0</td>\n",
       "      <td>0</td>\n",
       "      <td>0</td>\n",
       "      <td>0</td>\n",
       "    </tr>\n",
       "    <tr>\n",
       "      <th>30517</th>\n",
       "      <td>2019</td>\n",
       "      <td>4.0</td>\n",
       "      <td>0</td>\n",
       "      <td>0</td>\n",
       "      <td>0</td>\n",
       "      <td>0</td>\n",
       "      <td>0</td>\n",
       "      <td>0</td>\n",
       "      <td>0</td>\n",
       "      <td>1</td>\n",
       "      <td>0</td>\n",
       "      <td>0</td>\n",
       "      <td>0</td>\n",
       "    </tr>\n",
       "    <tr>\n",
       "      <th>17956</th>\n",
       "      <td>2017</td>\n",
       "      <td>1.0</td>\n",
       "      <td>0</td>\n",
       "      <td>0</td>\n",
       "      <td>0</td>\n",
       "      <td>0</td>\n",
       "      <td>0</td>\n",
       "      <td>0</td>\n",
       "      <td>0</td>\n",
       "      <td>1</td>\n",
       "      <td>0</td>\n",
       "      <td>0</td>\n",
       "      <td>0</td>\n",
       "    </tr>\n",
       "    <tr>\n",
       "      <th>49142</th>\n",
       "      <td>2013</td>\n",
       "      <td>28.0</td>\n",
       "      <td>0</td>\n",
       "      <td>1</td>\n",
       "      <td>0</td>\n",
       "      <td>0</td>\n",
       "      <td>0</td>\n",
       "      <td>0</td>\n",
       "      <td>0</td>\n",
       "      <td>0</td>\n",
       "      <td>0</td>\n",
       "      <td>1</td>\n",
       "      <td>0</td>\n",
       "    </tr>\n",
       "    <tr>\n",
       "      <th>77368</th>\n",
       "      <td>2018</td>\n",
       "      <td>1.0</td>\n",
       "      <td>0</td>\n",
       "      <td>0</td>\n",
       "      <td>0</td>\n",
       "      <td>0</td>\n",
       "      <td>1</td>\n",
       "      <td>0</td>\n",
       "      <td>0</td>\n",
       "      <td>0</td>\n",
       "      <td>0</td>\n",
       "      <td>0</td>\n",
       "      <td>0</td>\n",
       "    </tr>\n",
       "    <tr>\n",
       "      <th>17099</th>\n",
       "      <td>2014</td>\n",
       "      <td>20.0</td>\n",
       "      <td>1</td>\n",
       "      <td>0</td>\n",
       "      <td>0</td>\n",
       "      <td>0</td>\n",
       "      <td>0</td>\n",
       "      <td>0</td>\n",
       "      <td>0</td>\n",
       "      <td>0</td>\n",
       "      <td>0</td>\n",
       "      <td>0</td>\n",
       "      <td>0</td>\n",
       "    </tr>\n",
       "    <tr>\n",
       "      <th>60577</th>\n",
       "      <td>2019</td>\n",
       "      <td>18.0</td>\n",
       "      <td>0</td>\n",
       "      <td>1</td>\n",
       "      <td>0</td>\n",
       "      <td>0</td>\n",
       "      <td>0</td>\n",
       "      <td>0</td>\n",
       "      <td>0</td>\n",
       "      <td>0</td>\n",
       "      <td>0</td>\n",
       "      <td>0</td>\n",
       "      <td>0</td>\n",
       "    </tr>\n",
       "    <tr>\n",
       "      <th>22747</th>\n",
       "      <td>2016</td>\n",
       "      <td>1.0</td>\n",
       "      <td>0</td>\n",
       "      <td>0</td>\n",
       "      <td>0</td>\n",
       "      <td>0</td>\n",
       "      <td>0</td>\n",
       "      <td>0</td>\n",
       "      <td>0</td>\n",
       "      <td>0</td>\n",
       "      <td>0</td>\n",
       "      <td>0</td>\n",
       "      <td>0</td>\n",
       "    </tr>\n",
       "    <tr>\n",
       "      <th>58617</th>\n",
       "      <td>2017</td>\n",
       "      <td>39.0</td>\n",
       "      <td>0</td>\n",
       "      <td>1</td>\n",
       "      <td>0</td>\n",
       "      <td>0</td>\n",
       "      <td>0</td>\n",
       "      <td>0</td>\n",
       "      <td>0</td>\n",
       "      <td>0</td>\n",
       "      <td>0</td>\n",
       "      <td>0</td>\n",
       "      <td>1</td>\n",
       "    </tr>\n",
       "    <tr>\n",
       "      <th>19337</th>\n",
       "      <td>2018</td>\n",
       "      <td>73.0</td>\n",
       "      <td>1</td>\n",
       "      <td>0</td>\n",
       "      <td>0</td>\n",
       "      <td>0</td>\n",
       "      <td>0</td>\n",
       "      <td>0</td>\n",
       "      <td>0</td>\n",
       "      <td>0</td>\n",
       "      <td>0</td>\n",
       "      <td>0</td>\n",
       "      <td>0</td>\n",
       "    </tr>\n",
       "    <tr>\n",
       "      <th>44706</th>\n",
       "      <td>2014</td>\n",
       "      <td>46.0</td>\n",
       "      <td>0</td>\n",
       "      <td>1</td>\n",
       "      <td>0</td>\n",
       "      <td>0</td>\n",
       "      <td>0</td>\n",
       "      <td>0</td>\n",
       "      <td>0</td>\n",
       "      <td>0</td>\n",
       "      <td>0</td>\n",
       "      <td>0</td>\n",
       "      <td>1</td>\n",
       "    </tr>\n",
       "    <tr>\n",
       "      <th>35993</th>\n",
       "      <td>2013</td>\n",
       "      <td>52.0</td>\n",
       "      <td>1</td>\n",
       "      <td>0</td>\n",
       "      <td>0</td>\n",
       "      <td>0</td>\n",
       "      <td>0</td>\n",
       "      <td>0</td>\n",
       "      <td>0</td>\n",
       "      <td>0</td>\n",
       "      <td>0</td>\n",
       "      <td>0</td>\n",
       "      <td>1</td>\n",
       "    </tr>\n",
       "    <tr>\n",
       "      <th>2268</th>\n",
       "      <td>2014</td>\n",
       "      <td>61.0</td>\n",
       "      <td>1</td>\n",
       "      <td>0</td>\n",
       "      <td>1</td>\n",
       "      <td>0</td>\n",
       "      <td>0</td>\n",
       "      <td>0</td>\n",
       "      <td>0</td>\n",
       "      <td>0</td>\n",
       "      <td>0</td>\n",
       "      <td>0</td>\n",
       "      <td>0</td>\n",
       "    </tr>\n",
       "    <tr>\n",
       "      <th>14767</th>\n",
       "      <td>2017</td>\n",
       "      <td>28.0</td>\n",
       "      <td>1</td>\n",
       "      <td>0</td>\n",
       "      <td>0</td>\n",
       "      <td>0</td>\n",
       "      <td>0</td>\n",
       "      <td>0</td>\n",
       "      <td>0</td>\n",
       "      <td>0</td>\n",
       "      <td>1</td>\n",
       "      <td>0</td>\n",
       "      <td>0</td>\n",
       "    </tr>\n",
       "    <tr>\n",
       "      <th>62505</th>\n",
       "      <td>2018</td>\n",
       "      <td>3.0</td>\n",
       "      <td>0</td>\n",
       "      <td>0</td>\n",
       "      <td>0</td>\n",
       "      <td>0</td>\n",
       "      <td>0</td>\n",
       "      <td>0</td>\n",
       "      <td>0</td>\n",
       "      <td>0</td>\n",
       "      <td>0</td>\n",
       "      <td>0</td>\n",
       "      <td>0</td>\n",
       "    </tr>\n",
       "  </tbody>\n",
       "</table>\n",
       "</div>"
      ],
      "text/plain": [
       "       datecode  value  good_neighbourhood  good_community  green_access  \\\n",
       "29752      2018   85.0                   1               0             0   \n",
       "55247      2018   36.0                   0               1             0   \n",
       "60907      2014    2.0                   0               0             0   \n",
       "71730      2013   40.0                   0               1             0   \n",
       "28186      2019   54.0                   1               0             0   \n",
       "40283      2015    3.0                   0               0             1   \n",
       "30517      2019    4.0                   0               0             0   \n",
       "17956      2017    1.0                   0               0             0   \n",
       "49142      2013   28.0                   0               1             0   \n",
       "77368      2018    1.0                   0               0             0   \n",
       "17099      2014   20.0                   1               0             0   \n",
       "60577      2019   18.0                   0               1             0   \n",
       "22747      2016    1.0                   0               0             0   \n",
       "58617      2017   39.0                   0               1             0   \n",
       "19337      2018   73.0                   1               0             0   \n",
       "44706      2014   46.0                   0               1             0   \n",
       "35993      2013   52.0                   1               0             0   \n",
       "2268       2014   61.0                   1               0             1   \n",
       "14767      2017   28.0                   1               0             0   \n",
       "62505      2018    3.0                   0               0             0   \n",
       "\n",
       "       owners  tenants  pensioners  children  urban  female  lowest_quintile  \\\n",
       "29752       0        0           1         0      0       0                0   \n",
       "55247       0        0           0         0      0       0                0   \n",
       "60907       0        0           0         0      0       0                0   \n",
       "71730       1        0           0         0      0       0                0   \n",
       "28186       0        0           0         0      0       0                0   \n",
       "40283       0        0           0         0      0       0                0   \n",
       "30517       0        0           0         0      1       0                0   \n",
       "17956       0        0           0         0      1       0                0   \n",
       "49142       0        0           0         0      0       0                1   \n",
       "77368       0        1           0         0      0       0                0   \n",
       "17099       0        0           0         0      0       0                0   \n",
       "60577       0        0           0         0      0       0                0   \n",
       "22747       0        0           0         0      0       0                0   \n",
       "58617       0        0           0         0      0       0                0   \n",
       "19337       0        0           0         0      0       0                0   \n",
       "44706       0        0           0         0      0       0                0   \n",
       "35993       0        0           0         0      0       0                0   \n",
       "2268        0        0           0         0      0       0                0   \n",
       "14767       0        0           0         0      0       1                0   \n",
       "62505       0        0           0         0      0       0                0   \n",
       "\n",
       "       white_ethnicity  \n",
       "29752                0  \n",
       "55247                1  \n",
       "60907                1  \n",
       "71730                0  \n",
       "28186                0  \n",
       "40283                0  \n",
       "30517                0  \n",
       "17956                0  \n",
       "49142                0  \n",
       "77368                0  \n",
       "17099                0  \n",
       "60577                0  \n",
       "22747                0  \n",
       "58617                1  \n",
       "19337                0  \n",
       "44706                1  \n",
       "35993                1  \n",
       "2268                 0  \n",
       "14767                0  \n",
       "62505                0  "
      ]
     },
     "execution_count": 5,
     "metadata": {},
     "output_type": "execute_result"
    }
   ],
   "source": [
    "survey.sample(20)"
   ]
  },
  {
   "cell_type": "code",
   "execution_count": 6,
   "id": "5b3ff31b-e63d-4122-8ef7-a15063fcdd2e",
   "metadata": {},
   "outputs": [
    {
     "data": {
      "text/plain": [
       "0.3353490929081913"
      ]
     },
     "execution_count": 6,
     "metadata": {},
     "output_type": "execute_result"
    }
   ],
   "source": [
    "survey.good_neighbourhood.value_counts()[1] / survey.good_neighbourhood.value_counts()[0]"
   ]
  },
  {
   "cell_type": "markdown",
   "id": "91641980-d5b1-4f86-91ee-58dcf216bd6a",
   "metadata": {},
   "source": [
    "By encoding data in this way, we can treat the constant value 'All' as the absence of a feature rather than a feature being held constant. With enough data points this will be sufficient to generate predictions, albeit the model may not be useful to explain why certain features correlate with higher ratings. Note however that this feature engineering introduces an imbalance, as the split between 1s and 0s is not close to 50%."
   ]
  },
  {
   "cell_type": "markdown",
   "id": "3012bd7a-cc20-45ed-929c-bef176d3a1bb",
   "metadata": {},
   "source": [
    "# Splitting test and train sets\n",
    "\n",
    "Given that this data is dated, let us split it by date instead of at random. 2019 will become the test set and the model will be trained with the rest."
   ]
  },
  {
   "cell_type": "code",
   "execution_count": 7,
   "id": "1f3cffb0-c942-4e37-a5f6-0ab8f2671398",
   "metadata": {},
   "outputs": [
    {
     "data": {
      "text/plain": [
       "2013    3560\n",
       "2014    3540\n",
       "2019    3483\n",
       "2017    3482\n",
       "2015    3462\n",
       "2016    3442\n",
       "2018    3321\n",
       "Name: datecode, dtype: int64"
      ]
     },
     "execution_count": 7,
     "metadata": {},
     "output_type": "execute_result"
    }
   ],
   "source": [
    "survey.datecode.value_counts()"
   ]
  },
  {
   "cell_type": "markdown",
   "id": "5d155eaf-c24f-48df-8836-fffc25968211",
   "metadata": {},
   "source": [
    "Each year corresponds approximately with 1/7 th of the data, or 14%. For the train and test sets, let us drop both ratings from the train set as there might be a strong correlation between how people rate their community and their neighbourhood, so using each rating to predict the other would be circular."
   ]
  },
  {
   "cell_type": "code",
   "execution_count": 8,
   "id": "979d966b-c430-421e-8786-bf69fa76ee2b",
   "metadata": {},
   "outputs": [],
   "source": [
    "# Train and test split\n",
    "train = survey.query(\"datecode != 2019\").drop('datecode', axis=1)\n",
    "\n",
    "test = survey.query(\"datecode == 2019\").drop('datecode', axis=1)\n",
    "\n",
    "# Now drop both targets from the predictor sets\n",
    "X_test = test.drop(columns=['good_neighbourhood', 'good_community'])\n",
    "X_train = train.drop(columns=['good_neighbourhood', 'good_community'])\n",
    "\n",
    "# Create both targets\n",
    "community_test = test.good_community\n",
    "community_train = train.good_community\n",
    "\n",
    "neighbourhood_test = test.good_neighbourhood\n",
    "neighbourhood_train = train.good_neighbourhood"
   ]
  },
  {
   "cell_type": "markdown",
   "id": "abaab68e-33af-4645-b8e4-0f2e63878f95",
   "metadata": {},
   "source": [
    "# Building the pipeline for the logistic regression"
   ]
  },
  {
   "cell_type": "code",
   "execution_count": 9,
   "id": "1e2967cf-e19c-4a78-a752-c3c25a2a7876",
   "metadata": {},
   "outputs": [],
   "source": [
    "# The ColumnTransformer allows for treating incoming data differently depending on its type (categorical, or numerical in the case of the value column)\n",
    "log_pipe = Pipeline([\n",
    "    ('split', ColumnTransformer([\n",
    "        ('green_access', \n",
    "         OneHotEncoder(categories=[survey.green_access.unique()], drop='first', handle_unknown='error'), ['green_access']),\n",
    "        ('owners', \n",
    "         OneHotEncoder(categories=[survey.owners.unique()], drop='first', handle_unknown='error'), ['owners']), \n",
    "        ('tenants', \n",
    "         OneHotEncoder(categories=[survey.tenants.unique()], drop='first', handle_unknown='error'), ['tenants']), \n",
    "        ('pensioners', \n",
    "         OneHotEncoder(categories=[survey.pensioners.unique()], drop='first', handle_unknown='error'), ['pensioners']),\n",
    "         ('children', \n",
    "         OneHotEncoder(categories=[survey.children.unique()], drop='first', handle_unknown='error'), ['children']),\n",
    "        ('urban', \n",
    "         OneHotEncoder(categories=[survey.urban.unique()], drop='first', handle_unknown='error'), ['urban']),\n",
    "         ('female', \n",
    "         OneHotEncoder(categories=[survey.female.unique()], drop='first', handle_unknown='error'), ['female']),\n",
    "         ('lowest_quintile', \n",
    "         OneHotEncoder(categories=[survey.lowest_quintile.unique()], drop='first', handle_unknown='error'), ['lowest_quintile']),\n",
    "         ('white_ethnicity', \n",
    "         OneHotEncoder(categories=[survey.white_ethnicity.unique()], drop='first', handle_unknown='error'), ['white_ethnicity']),\n",
    "        ('value', Pipeline([\n",
    "                ('scale', StandardScaler())\n",
    "            ]), ['value'])\n",
    "    ])),\n",
    "    # ('poly', PolynomialFeatures(degree=2, include_bias=False, interaction_only=True)),\n",
    "    ('classifier', LogisticRegression())\n",
    "])"
   ]
  },
  {
   "cell_type": "markdown",
   "id": "0842f3ee-c3db-4bf9-9965-d0056892792d",
   "metadata": {},
   "source": [
    "# Fitting and scoring the models"
   ]
  },
  {
   "cell_type": "markdown",
   "id": "c0a6d86c-c230-4ad3-ba05-c7e392b73658",
   "metadata": {},
   "source": [
    "## Neighbourhood ratings model"
   ]
  },
  {
   "cell_type": "code",
   "execution_count": 10,
   "id": "bb15eaf2-9ef8-483f-8786-cc88ae3aaf2c",
   "metadata": {},
   "outputs": [],
   "source": [
    "# Fitting the model to the train set for the neighbourhood rating\n",
    "log_pipe.fit(X_train, neighbourhood_train);"
   ]
  },
  {
   "cell_type": "code",
   "execution_count": 11,
   "id": "d2744414-d98d-496d-9b20-7f056451583d",
   "metadata": {},
   "outputs": [
    {
     "name": "stdout",
     "output_type": "stream",
     "text": [
      "MAE train for Logistic Regression: 0.18277502763493056\n",
      "MAE test for Logistic Regression: 0.18863049095607234\n"
     ]
    }
   ],
   "source": [
    "print('MAE train for Logistic Regression:', mean_absolute_error(neighbourhood_train, log_pipe.predict(X_train)))\n",
    "print('MAE test for Logistic Regression:', mean_absolute_error(neighbourhood_test, log_pipe.predict(X_test)))"
   ]
  },
  {
   "cell_type": "markdown",
   "id": "7817b55f-eacf-4639-9605-e9f75f3dae4c",
   "metadata": {},
   "source": [
    "The mean absolute error for the test and train sets is very similar, suggesting that the model is not over-fitting."
   ]
  },
  {
   "cell_type": "code",
   "execution_count": 12,
   "id": "2dd580c2-1f83-41ab-95d2-212f7feca604",
   "metadata": {},
   "outputs": [
    {
     "name": "stdout",
     "output_type": "stream",
     "text": [
      "Logistic Regression model train mean accuracy: 0.6525693203208068.\n",
      "Logistic Regression model test mean accuracy: 0.6609582941671202.\n"
     ]
    }
   ],
   "source": [
    "print(f\"Logistic Regression model train mean accuracy: {cross_val_score(log_pipe, X_train, community_train, scoring='accuracy', cv=5).mean()}.\");\n",
    "print(f\"Logistic Regression model test mean accuracy: {cross_val_score(log_pipe, X_test, community_test, scoring='accuracy', cv=5).mean()}.\");"
   ]
  },
  {
   "cell_type": "markdown",
   "id": "f5c2e930-f643-469a-bc36-13e3efe720d9",
   "metadata": {},
   "source": [
    "Accuracy is quite good for this model, and similar in the test and train sets."
   ]
  },
  {
   "cell_type": "code",
   "execution_count": 13,
   "id": "56317d44-b212-4918-ba4c-2496d6c83ca6",
   "metadata": {},
   "outputs": [
    {
     "name": "stdout",
     "output_type": "stream",
     "text": [
      "AUC train for Logistic Regression: 0.7191536335071496\n",
      "AUC test for Logistic Regression: 0.7083255198889017\n"
     ]
    }
   ],
   "source": [
    "print('AUC train for Logistic Regression:', roc_auc_score(neighbourhood_train, log_pipe.predict(X_train)))\n",
    "print('AUC test for Logistic Regression:', roc_auc_score(neighbourhood_test, log_pipe.predict(X_test)))"
   ]
  },
  {
   "cell_type": "markdown",
   "id": "b0d83312-696c-4564-91c6-ee30dedce370",
   "metadata": {},
   "source": [
    "The area under the ROC curve metric shows the relationship between the false positive rate and the true positive rate. A value of around 0.5 would signify that the model is as good at predicting positives as a coin flip."
   ]
  },
  {
   "cell_type": "markdown",
   "id": "70a9fba5-793f-4296-8434-d3fb1b3bbf28",
   "metadata": {},
   "source": [
    "## Community belonging model"
   ]
  },
  {
   "cell_type": "code",
   "execution_count": 14,
   "id": "8e7999e8-b953-41d0-a0d4-3c1bef03dab8",
   "metadata": {},
   "outputs": [],
   "source": [
    "# Fitting the model to the train set for the community belonging rating\n",
    "log_pipe.fit(X_train, community_train);"
   ]
  },
  {
   "cell_type": "code",
   "execution_count": 15,
   "id": "3eeae032-31d5-4d06-b089-4bbd840320f2",
   "metadata": {},
   "outputs": [
    {
     "name": "stdout",
     "output_type": "stream",
     "text": [
      "MAE train for Logistic Regression: 0.3210458018935935\n",
      "MAE test for Logistic Regression: 0.3181165661785817\n"
     ]
    }
   ],
   "source": [
    "print('MAE train for Logistic Regression:', mean_absolute_error(community_train, log_pipe.predict(X_train)))\n",
    "print('MAE test for Logistic Regression:', mean_absolute_error(community_test, log_pipe.predict(X_test)))"
   ]
  },
  {
   "cell_type": "code",
   "execution_count": 16,
   "id": "2e5bbe98-2927-4963-8e2d-32fb2a52b6e6",
   "metadata": {},
   "outputs": [
    {
     "name": "stdout",
     "output_type": "stream",
     "text": [
      "Logistic Regression model train mean accuracy: 0.6525693203208068.\n",
      "Logistic Regression model test mean accuracy: 0.6609582941671202.\n"
     ]
    }
   ],
   "source": [
    "print(f\"Logistic Regression model train mean accuracy: {cross_val_score(log_pipe, X_train, community_train, scoring='accuracy', cv=5).mean()}.\")\n",
    "print(f\"Logistic Regression model test mean accuracy: {cross_val_score(log_pipe, X_test, community_test, scoring='accuracy', cv=5).mean()}.\")"
   ]
  },
  {
   "cell_type": "code",
   "execution_count": 17,
   "id": "78afd5a7-1749-4063-8a1f-7e40ccee64c1",
   "metadata": {},
   "outputs": [
    {
     "name": "stdout",
     "output_type": "stream",
     "text": [
      "AUC train for Logistic Regression: 0.4771463868970735\n",
      "AUC test for Logistic Regression: 0.47564955902309647\n"
     ]
    }
   ],
   "source": [
    "print('AUC train for Logistic Regression:', roc_auc_score(community_train, log_pipe.predict(X_train)))\n",
    "print('AUC test for Logistic Regression:', roc_auc_score(community_test, log_pipe.predict(X_test)))"
   ]
  },
  {
   "cell_type": "markdown",
   "id": "97d99090-2fa2-4537-b3df-164510a983d4",
   "metadata": {},
   "source": [
    "For community belonging, the model does not perform well. Accuracy is low and the AUC value shows that the true / false positive rate is as good as a coin flip."
   ]
  },
  {
   "cell_type": "markdown",
   "id": "6afce94b-516f-46e1-9531-55c5e21fd9ad",
   "metadata": {},
   "source": [
    "# Second approach: random forest classifier.\n",
    "\n",
    "Given that the feature engineering and logistic regression has not been successful in the goal of creating an accurate model with regards to community belonging, another approach will be considered."
   ]
  },
  {
   "cell_type": "code",
   "execution_count": 18,
   "id": "fd41320a-6684-460b-898f-5e942df7b54d",
   "metadata": {},
   "outputs": [
    {
     "data": {
      "text/html": [
       "<div>\n",
       "<style scoped>\n",
       "    .dataframe tbody tr th:only-of-type {\n",
       "        vertical-align: middle;\n",
       "    }\n",
       "\n",
       "    .dataframe tbody tr th {\n",
       "        vertical-align: top;\n",
       "    }\n",
       "\n",
       "    .dataframe thead th {\n",
       "        text-align: right;\n",
       "    }\n",
       "</style>\n",
       "<table border=\"1\" class=\"dataframe\">\n",
       "  <thead>\n",
       "    <tr style=\"text-align: right;\">\n",
       "      <th></th>\n",
       "      <th>datecode</th>\n",
       "      <th>value</th>\n",
       "      <th>neighbourhood_rating</th>\n",
       "      <th>gender</th>\n",
       "      <th>urban_rural_classification</th>\n",
       "      <th>simd_quintiles</th>\n",
       "      <th>type_of_tenure</th>\n",
       "      <th>household_type</th>\n",
       "      <th>ethnicity</th>\n",
       "      <th>walking_distance_to_nearest_greenspace</th>\n",
       "      <th>community_belonging</th>\n",
       "    </tr>\n",
       "  </thead>\n",
       "  <tbody>\n",
       "    <tr>\n",
       "      <th>30999</th>\n",
       "      <td>2018</td>\n",
       "      <td>1.0</td>\n",
       "      <td>Very poor</td>\n",
       "      <td>All</td>\n",
       "      <td>All</td>\n",
       "      <td>All</td>\n",
       "      <td>Private Rented</td>\n",
       "      <td>All</td>\n",
       "      <td>All</td>\n",
       "      <td>All</td>\n",
       "      <td>All</td>\n",
       "    </tr>\n",
       "    <tr>\n",
       "      <th>26800</th>\n",
       "      <td>2013</td>\n",
       "      <td>10.0</td>\n",
       "      <td>Fairly poor</td>\n",
       "      <td>All</td>\n",
       "      <td>All</td>\n",
       "      <td>All</td>\n",
       "      <td>All</td>\n",
       "      <td>With Children</td>\n",
       "      <td>All</td>\n",
       "      <td>All</td>\n",
       "      <td>All</td>\n",
       "    </tr>\n",
       "    <tr>\n",
       "      <th>3144</th>\n",
       "      <td>2014</td>\n",
       "      <td>28.0</td>\n",
       "      <td>Fairly good</td>\n",
       "      <td>All</td>\n",
       "      <td>All</td>\n",
       "      <td>All</td>\n",
       "      <td>All</td>\n",
       "      <td>All</td>\n",
       "      <td>All</td>\n",
       "      <td>Less than 10 minutes</td>\n",
       "      <td>All</td>\n",
       "    </tr>\n",
       "    <tr>\n",
       "      <th>54076</th>\n",
       "      <td>2019</td>\n",
       "      <td>19.0</td>\n",
       "      <td>All</td>\n",
       "      <td>Male</td>\n",
       "      <td>All</td>\n",
       "      <td>All</td>\n",
       "      <td>All</td>\n",
       "      <td>All</td>\n",
       "      <td>All</td>\n",
       "      <td>All</td>\n",
       "      <td>Not very strongly</td>\n",
       "    </tr>\n",
       "    <tr>\n",
       "      <th>4646</th>\n",
       "      <td>2019</td>\n",
       "      <td>0.0</td>\n",
       "      <td>No opinion</td>\n",
       "      <td>Male</td>\n",
       "      <td>All</td>\n",
       "      <td>All</td>\n",
       "      <td>All</td>\n",
       "      <td>All</td>\n",
       "      <td>All</td>\n",
       "      <td>All</td>\n",
       "      <td>All</td>\n",
       "    </tr>\n",
       "    <tr>\n",
       "      <th>27912</th>\n",
       "      <td>2016</td>\n",
       "      <td>2.0</td>\n",
       "      <td>Fairly poor</td>\n",
       "      <td>All</td>\n",
       "      <td>All</td>\n",
       "      <td>All</td>\n",
       "      <td>All</td>\n",
       "      <td>Pensioners</td>\n",
       "      <td>All</td>\n",
       "      <td>All</td>\n",
       "      <td>Don't know</td>\n",
       "    </tr>\n",
       "    <tr>\n",
       "      <th>1062</th>\n",
       "      <td>2019</td>\n",
       "      <td>1.0</td>\n",
       "      <td>No opinion</td>\n",
       "      <td>All</td>\n",
       "      <td>All</td>\n",
       "      <td>All</td>\n",
       "      <td>All</td>\n",
       "      <td>All</td>\n",
       "      <td>All</td>\n",
       "      <td>Less than 10 minutes</td>\n",
       "      <td>All</td>\n",
       "    </tr>\n",
       "    <tr>\n",
       "      <th>21607</th>\n",
       "      <td>2018</td>\n",
       "      <td>55.0</td>\n",
       "      <td>Very good</td>\n",
       "      <td>All</td>\n",
       "      <td>All</td>\n",
       "      <td>All</td>\n",
       "      <td>All</td>\n",
       "      <td>Adults</td>\n",
       "      <td>All</td>\n",
       "      <td>All</td>\n",
       "      <td>All</td>\n",
       "    </tr>\n",
       "    <tr>\n",
       "      <th>20910</th>\n",
       "      <td>2017</td>\n",
       "      <td>4.0</td>\n",
       "      <td>Very poor</td>\n",
       "      <td>All</td>\n",
       "      <td>All</td>\n",
       "      <td>All</td>\n",
       "      <td>All</td>\n",
       "      <td>Adults</td>\n",
       "      <td>All</td>\n",
       "      <td>All</td>\n",
       "      <td>Not at all strongly</td>\n",
       "    </tr>\n",
       "    <tr>\n",
       "      <th>46255</th>\n",
       "      <td>2013</td>\n",
       "      <td>43.0</td>\n",
       "      <td>All</td>\n",
       "      <td>Female</td>\n",
       "      <td>All</td>\n",
       "      <td>All</td>\n",
       "      <td>All</td>\n",
       "      <td>All</td>\n",
       "      <td>All</td>\n",
       "      <td>All</td>\n",
       "      <td>Fairly strongly</td>\n",
       "    </tr>\n",
       "  </tbody>\n",
       "</table>\n",
       "</div>"
      ],
      "text/plain": [
       "       datecode  value neighbourhood_rating  gender  \\\n",
       "30999      2018    1.0            Very poor     All   \n",
       "26800      2013   10.0          Fairly poor     All   \n",
       "3144       2014   28.0          Fairly good     All   \n",
       "54076      2019   19.0                  All    Male   \n",
       "4646       2019    0.0           No opinion    Male   \n",
       "27912      2016    2.0          Fairly poor     All   \n",
       "1062       2019    1.0           No opinion     All   \n",
       "21607      2018   55.0            Very good     All   \n",
       "20910      2017    4.0            Very poor     All   \n",
       "46255      2013   43.0                  All  Female   \n",
       "\n",
       "      urban_rural_classification simd_quintiles  type_of_tenure  \\\n",
       "30999                        All            All  Private Rented   \n",
       "26800                        All            All             All   \n",
       "3144                         All            All             All   \n",
       "54076                        All            All             All   \n",
       "4646                         All            All             All   \n",
       "27912                        All            All             All   \n",
       "1062                         All            All             All   \n",
       "21607                        All            All             All   \n",
       "20910                        All            All             All   \n",
       "46255                        All            All             All   \n",
       "\n",
       "      household_type ethnicity walking_distance_to_nearest_greenspace  \\\n",
       "30999            All       All                                    All   \n",
       "26800  With Children       All                                    All   \n",
       "3144             All       All                   Less than 10 minutes   \n",
       "54076            All       All                                    All   \n",
       "4646             All       All                                    All   \n",
       "27912     Pensioners       All                                    All   \n",
       "1062             All       All                   Less than 10 minutes   \n",
       "21607         Adults       All                                    All   \n",
       "20910         Adults       All                                    All   \n",
       "46255            All       All                                    All   \n",
       "\n",
       "       community_belonging  \n",
       "30999                  All  \n",
       "26800                  All  \n",
       "3144                   All  \n",
       "54076    Not very strongly  \n",
       "4646                   All  \n",
       "27912           Don't know  \n",
       "1062                   All  \n",
       "21607                  All  \n",
       "20910  Not at all strongly  \n",
       "46255      Fairly strongly  "
      ]
     },
     "execution_count": 18,
     "metadata": {},
     "output_type": "execute_result"
    }
   ],
   "source": [
    "raw_survey = (\n",
    "    pd.merge(neighbourhood, community, how='outer')\n",
    "    .query(\"featurecode != 'S92000003' & measurement == 'Percent'\")\n",
    "    .drop(columns=['measurement', 'units', 'featurecode'])\n",
    "    .fillna('All')\n",
    ")\n",
    "\n",
    "raw_survey.sample(10)"
   ]
  },
  {
   "cell_type": "code",
   "execution_count": 19,
   "id": "8414e750-be5a-42aa-87b2-d77d03e0d2d9",
   "metadata": {},
   "outputs": [],
   "source": [
    "# ProfileReport(raw_survey)"
   ]
  },
  {
   "cell_type": "code",
   "execution_count": 20,
   "id": "a1b04142-bfc1-4855-a89a-47f4003d4e30",
   "metadata": {},
   "outputs": [],
   "source": [
    "rf_pipe = Pipeline([\n",
    "    ('split', ColumnTransformer([\n",
    "        ('gender', \n",
    "         OneHotEncoder(categories=[raw_survey.gender.unique()], drop='first', handle_unknown='error'), ['gender']), \n",
    "        ('urban_rural_classification', \n",
    "         OneHotEncoder(categories=[raw_survey.urban_rural_classification.unique()], drop='first', handle_unknown='error'), ['urban_rural_classification']), \n",
    "        ('simd_quintiles', \n",
    "         OneHotEncoder(categories=[raw_survey.simd_quintiles.unique()], drop='first', handle_unknown='error'), ['simd_quintiles']),\n",
    "         ('type_of_tenure', \n",
    "         OneHotEncoder(categories=[raw_survey.type_of_tenure.unique()], drop='first', handle_unknown='error'), ['type_of_tenure']),\n",
    "        ('household_type', \n",
    "         OneHotEncoder(categories=[raw_survey.household_type.unique()], drop='first', handle_unknown='error'), ['household_type']),\n",
    "         ('ethnicity', \n",
    "         OneHotEncoder(categories=[raw_survey.ethnicity.unique()], drop='first', handle_unknown='error'), ['ethnicity']),\n",
    "         ('walking_distance_to_nearest_greenspace', \n",
    "         OneHotEncoder(categories=[raw_survey.walking_distance_to_nearest_greenspace.unique()], drop='first', handle_unknown='error'), ['walking_distance_to_nearest_greenspace']),\n",
    "        ('value', Pipeline([\n",
    "                ('scale', StandardScaler())\n",
    "            ]), ['value'])\n",
    "    ])),\n",
    "    ('classifier', RandomForestClassifier())\n",
    "])"
   ]
  },
  {
   "cell_type": "code",
   "execution_count": 21,
   "id": "23a1b732-1efe-47e0-9de4-37dc8f0d60b4",
   "metadata": {},
   "outputs": [],
   "source": [
    "# Train and test split\n",
    "train = raw_survey.query(\"datecode != 2019\").drop('datecode', axis=1)\n",
    "\n",
    "test = raw_survey.query(\"datecode == 2019\").drop('datecode', axis=1)\n",
    "\n",
    "# Now drop both targets from the predictor sets\n",
    "X_test = test.drop(columns=['neighbourhood_rating', 'community_belonging'])\n",
    "X_train = train.drop(columns=['neighbourhood_rating', 'community_belonging'])\n",
    "\n",
    "# Create both targets\n",
    "community_test = test.community_belonging\n",
    "community_train = train.community_belonging\n",
    "\n",
    "neighbourhood_test = test.neighbourhood_rating\n",
    "neighbourhood_train = train.neighbourhood_rating\n",
    "\n",
    "# Start the label encoder to turn response types into numbers\n",
    "le = LabelEncoder()"
   ]
  },
  {
   "cell_type": "markdown",
   "id": "ed99c409-279a-4690-8707-27ca3ac4bb7b",
   "metadata": {},
   "source": [
    "## Neighbourhood rating"
   ]
  },
  {
   "cell_type": "code",
   "execution_count": 22,
   "id": "a39aa256-12d5-4f29-bdf9-e1202cab7e95",
   "metadata": {},
   "outputs": [],
   "source": [
    "# Fitting the model to the train set for the neighbourhood rating, including fitting to the encoded labels\n",
    "le.fit(neighbourhood_train)\n",
    "rf_pipe.fit(X_train, le.transform(neighbourhood_train));"
   ]
  },
  {
   "cell_type": "code",
   "execution_count": 23,
   "id": "14f15a2f-1cde-4eea-8f8d-76fadc64ca64",
   "metadata": {},
   "outputs": [
    {
     "data": {
      "text/plain": [
       "array(['All', 'Fairly good', 'Fairly poor', 'No opinion', 'Very good',\n",
       "       'Very poor'], dtype=object)"
      ]
     },
     "execution_count": 23,
     "metadata": {},
     "output_type": "execute_result"
    }
   ],
   "source": [
    "# This is to show what the encoded labels are\n",
    "le.classes_"
   ]
  },
  {
   "cell_type": "code",
   "execution_count": 24,
   "id": "a0af35a4-4ed4-4428-baf2-edf943a20ee9",
   "metadata": {},
   "outputs": [
    {
     "data": {
      "text/plain": [
       "RandomForestClassifier()"
      ]
     },
     "execution_count": 24,
     "metadata": {},
     "output_type": "execute_result"
    }
   ],
   "source": [
    "dummy_train = pd.get_dummies(X_train)\n",
    "\n",
    "rf = RandomForestClassifier()\n",
    "rf.fit(dummy_train, le.transform(neighbourhood_train))"
   ]
  },
  {
   "cell_type": "code",
   "execution_count": 25,
   "id": "5e5c395a-b43d-4709-a04e-24e477e3ccd0",
   "metadata": {},
   "outputs": [
    {
     "data": {
      "text/plain": [
       "0.6118288831467126"
      ]
     },
     "execution_count": 25,
     "metadata": {},
     "output_type": "execute_result"
    }
   ],
   "source": [
    "dummy_test = pd.get_dummies(X_test)\n",
    "rf.score(dummy_test, le.transform(neighbourhood_test))"
   ]
  },
  {
   "cell_type": "markdown",
   "id": "3a23824a-f380-4d20-8f89-0e2bd0b04f39",
   "metadata": {},
   "source": [
    "Accuracy for the simple model is not high. Cross-validation accuracy is lower:"
   ]
  },
  {
   "cell_type": "code",
   "execution_count": 26,
   "id": "c7b2fab5-ccbf-4f4d-8825-cecae8642ea4",
   "metadata": {},
   "outputs": [
    {
     "name": "stdout",
     "output_type": "stream",
     "text": [
      "Logistic Regression model train mean accuracy: 0.4608964087362561.\n",
      "Logistic Regression model test mean accuracy: 0.40677286894572795.\n"
     ]
    }
   ],
   "source": [
    "print(f\"Logistic Regression model train mean accuracy: {cross_val_score(rf_pipe, X_train, le.transform(neighbourhood_train), scoring='accuracy', cv=5).mean()}.\");\n",
    "print(f\"Logistic Regression model test mean accuracy: {cross_val_score(rf_pipe, X_test, le.transform(neighbourhood_test), scoring='accuracy', cv=5).mean()}.\");"
   ]
  },
  {
   "cell_type": "markdown",
   "id": "ec52ffdc-082a-4b4a-8d3c-685e8a7a7cd8",
   "metadata": {},
   "source": [
    "## Community rating"
   ]
  },
  {
   "cell_type": "code",
   "execution_count": 27,
   "id": "80448cab-af2b-400b-8e74-86ac0110ed57",
   "metadata": {},
   "outputs": [],
   "source": [
    "# Fitting the model to the train set for the neighbourhood rating, including fitting to the encoded labels\n",
    "le.fit(community_train)\n",
    "rf_pipe.fit(X_train, le.transform(community_train));"
   ]
  },
  {
   "cell_type": "code",
   "execution_count": 28,
   "id": "bec5af44-549e-440e-b1ec-2cfb3bbf16ba",
   "metadata": {},
   "outputs": [
    {
     "data": {
      "text/plain": [
       "array(['All', \"Don't know\", 'Fairly strongly', 'Not at all strongly',\n",
       "       'Not very strongly', 'Very strongly'], dtype=object)"
      ]
     },
     "execution_count": 28,
     "metadata": {},
     "output_type": "execute_result"
    }
   ],
   "source": [
    "# This is to show what the encoded labels are\n",
    "le.classes_"
   ]
  },
  {
   "cell_type": "code",
   "execution_count": 29,
   "id": "f1e60ce5-8ecf-4d9a-b3be-ae57b095766f",
   "metadata": {},
   "outputs": [
    {
     "data": {
      "text/plain": [
       "RandomForestClassifier()"
      ]
     },
     "execution_count": 29,
     "metadata": {},
     "output_type": "execute_result"
    }
   ],
   "source": [
    "dummy_train = pd.get_dummies(X_train)\n",
    "\n",
    "rf = RandomForestClassifier()\n",
    "rf.fit(dummy_train, le.transform(community_train))"
   ]
  },
  {
   "cell_type": "code",
   "execution_count": 30,
   "id": "632c34a8-3f62-4d9d-9a6a-a80c5d0b5f23",
   "metadata": {},
   "outputs": [
    {
     "data": {
      "text/plain": [
       "0.5446454206144129"
      ]
     },
     "execution_count": 30,
     "metadata": {},
     "output_type": "execute_result"
    }
   ],
   "source": [
    "dummy_test = pd.get_dummies(X_test)\n",
    "rf.score(dummy_test, le.transform(community_test))"
   ]
  },
  {
   "cell_type": "markdown",
   "id": "9ed79e9c-ec7f-4823-abbb-b752849935f1",
   "metadata": {},
   "source": [
    "Accuracy for the simple model is not high. Same goes for the cross-validation and using the pipeline:"
   ]
  },
  {
   "cell_type": "code",
   "execution_count": 31,
   "id": "441423e0-97a8-48b6-9390-53d9ea52580f",
   "metadata": {},
   "outputs": [
    {
     "name": "stdout",
     "output_type": "stream",
     "text": [
      "Logistic Regression model train mean accuracy: 0.3725703342899057.\n",
      "Logistic Regression model test mean accuracy: 0.31986469104041954.\n"
     ]
    }
   ],
   "source": [
    "print(f\"Logistic Regression model train mean accuracy: {cross_val_score(rf_pipe, X_train, le.transform(community_train), scoring='accuracy', cv=5).mean()}.\");\n",
    "print(f\"Logistic Regression model test mean accuracy: {cross_val_score(rf_pipe, X_test, le.transform(community_test), scoring='accuracy', cv=5).mean()}.\");"
   ]
  },
  {
   "cell_type": "markdown",
   "id": "e5975739-5472-449d-8982-b86403491ef2",
   "metadata": {},
   "source": [
    "Overall, this would suggest that the random forest model is not very good either to predict community belonging."
   ]
  },
  {
   "cell_type": "markdown",
   "id": "23118e1b-6656-4234-aaff-592f195db631",
   "metadata": {},
   "source": [
    "# Summary"
   ]
  },
  {
   "cell_type": "markdown",
   "id": "3db4d1eb-ad91-4492-af3f-7c2708a2e039",
   "metadata": {},
   "source": [
    "The goal is to predict community belonging and neighbourhood ratings in base of the demographic variables. Two approaches have been attempted.\n",
    "\n",
    "The first one consisted in heavy feature engineering to encode all variables as binaries. Then, split the data by date, the train set being 2013-2018 and the test set 2019. Finally, fitting a logistic regression model to the train set. This model performed quite well to predict 2019 neighbourhood ratings and was subpar at predicting community belonging.\n",
    "\n",
    "In the second approach features were not engineered. Data was split similarly by date, the train set then fitted to a random forest model. Both models performed worse for their target variables compared to their respective logistic models."
   ]
  }
 ],
 "metadata": {
  "interpreter": {
   "hash": "19852a196fd513f56c631f664a06f1e7288ab279af1c280e9fd876260f4d16d2"
  },
  "kernelspec": {
   "display_name": "Python 3 (ipykernel)",
   "language": "python",
   "name": "python3"
  },
  "language_info": {
   "codemirror_mode": {
    "name": "ipython",
    "version": 3
   },
   "file_extension": ".py",
   "mimetype": "text/x-python",
   "name": "python",
   "nbconvert_exporter": "python",
   "pygments_lexer": "ipython3",
   "version": "3.10.4"
  }
 },
 "nbformat": 4,
 "nbformat_minor": 5
}
