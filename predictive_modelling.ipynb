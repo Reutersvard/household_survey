{
 "cells": [
  {
   "cell_type": "markdown",
   "id": "6050dd28-145d-4162-9106-6db2b369f44d",
   "metadata": {},
   "source": [
    "# Model building: predicting neighbourhood rating and community belonging"
   ]
  },
  {
   "cell_type": "code",
   "execution_count": null,
   "id": "c642b84f",
   "metadata": {
    "ExecuteTime": {
     "end_time": "2022-02-13T18:46:53.068341Z",
     "start_time": "2022-02-13T18:46:52.193438Z"
    }
   },
   "outputs": [],
   "source": [
    "# Libraries\n",
    "import pandas as pd\n",
    "import numpy as np\n",
    "from janitor import clean_names\n",
    "from pandas_profiling import ProfileReport\n",
    "from sklearn.pipeline import Pipeline\n",
    "from sklearn.preprocessing import OneHotEncoder, StandardScaler, LabelEncoder\n",
    "from sklearn.compose import ColumnTransformer\n",
    "from sklearn.linear_model import LogisticRegression\n",
    "from sklearn.model_selection import cross_val_score\n",
    "from sklearn.metrics import mean_absolute_error\n",
    "from sklearn.metrics import roc_auc_score\n",
    "from sklearn.ensemble import RandomForestClassifier\n",
    "import pickle"
   ]
  },
  {
   "cell_type": "markdown",
   "id": "8da7e1a7",
   "metadata": {
    "tags": []
   },
   "source": [
    "# Data preparation\n",
    "\n",
    "The approach will be different from data preparation in the exploratory analysis. The aim will be to preserve as many data points as possible, whist reducing the cardinality of the many categorical variables. Given the targets to be predicted, only two datasets will be necessary, as they both contain the same columns except for the two dependent variables, neighbourhood rating and community belonging."
   ]
  },
  {
   "cell_type": "code",
   "execution_count": null,
   "id": "d95277c1",
   "metadata": {
    "ExecuteTime": {
     "end_time": "2022-02-13T18:46:55.477074Z",
     "start_time": "2022-02-13T18:46:55.298072Z"
    }
   },
   "outputs": [],
   "source": [
    "# Read in neighbourhood ratings\n",
    "neighbourhood = pd.read_csv(\"data/neighbourhood_rating.csv\").clean_names()\n",
    "\n",
    "# Read in community ratings\n",
    "community = pd.read_csv(\"data/community_belonging.csv\").clean_names()"
   ]
  },
  {
   "cell_type": "code",
   "execution_count": null,
   "id": "18210ecd",
   "metadata": {
    "ExecuteTime": {
     "end_time": "2022-02-13T20:06:14.244232Z",
     "start_time": "2022-02-13T20:06:13.858545Z"
    }
   },
   "outputs": [],
   "source": [
    "# Joining the two datasets.\n",
    "survey = (\n",
    "    pd.merge(neighbourhood, community, how='outer')\n",
    "    .query(\"featurecode != 'S92000003' & measurement == 'Percent'\")\n",
    "    .drop(columns=['measurement', 'units', 'featurecode'])\n",
    "    .fillna('All')\n",
    ")\n",
    "\n",
    "survey.sample(10)"
   ]
  },
  {
   "cell_type": "markdown",
   "id": "08a81937",
   "metadata": {},
   "source": [
    "As already mentioned, many of the variables are categorical and show high cardinality, but do not fully explain the variation in the percentage of adults that fall into that category (see exploratory analysis report for more details). This is particularly true of our targets: community belonging and neighbourhood rating. For these reasons, many features will be engineered into binary classifiers that will hopefully better capture data variation, and simplify model building.\n",
    "\n",
    "Additionally, confidence intervals and region codes have been dropped and the data points taken as country-wide statistical variation. In order to drop these two columns upper and lower bounds for the confidence intervals and the feature code for Scotland as a whole have been filtered out."
   ]
  },
  {
   "cell_type": "markdown",
   "id": "92a53f47-7457-4333-98f6-d28b96d12a8b",
   "metadata": {},
   "source": [
    "## Feature engineering\n",
    "\n",
    "The following features will be re-binned or engineered:\n",
    "\n",
    "- `walking_distance_to_nearest_greenspace` will become `green_access`, 1 for those who live within 10 min of a green space, 0 otherwise.\n",
    "\n",
    "- `neighbourghood_rating` and `community_belonging` will become `good_neighbourhood` and `good_community`, 1 if they are very/fairly good/strong, and 0 otherwise.\n",
    "\n",
    "- `type_of_tenure` will be replaced by `owner` and `tenant` and their respective binary encoding.\n",
    "\n",
    "- `household_type` will be replaced by `pensioners` and `children` and their respective binary encoding.\n",
    "\n",
    "- The rest of the variables will also be binary encoded."
   ]
  },
  {
   "cell_type": "code",
   "execution_count": null,
   "id": "10b99e63-914e-47e2-b964-32042376bee0",
   "metadata": {
    "tags": []
   },
   "outputs": [],
   "source": [
    "# Good neighbourhood rating\n",
    "survey.loc[:, 'good_neighbourhood'] = np.where(\n",
    "    survey['neighbourhood_rating'].isin(['Very good', 'Fairly good']),\n",
    "    1, 0)\n",
    "\n",
    "# Good community belonging feeling\n",
    "survey.loc[:, 'good_community'] = np.where(\n",
    "    survey['community_belonging'].isin(['Very strongly', 'Fairly strongly']),\n",
    "    1, 0)\n",
    "\n",
    "# Green space access\n",
    "survey.loc[:, 'green_access'] = np.where(\n",
    "    survey['walking_distance_to_nearest_greenspace'] == 'Less than 10 minutes',\n",
    "    1, 0)\n",
    "\n",
    "# Owners\n",
    "survey.loc[:, 'owners'] = np.where(\n",
    "    survey['type_of_tenure'].isin(['Owned Outright', 'Owned Mortgage/Loan']),\n",
    "    1, 0)\n",
    "\n",
    "# Tenants\n",
    "survey.loc[:, 'tenants'] = np.where(\n",
    "    survey['type_of_tenure'].isin(['Social Rented', 'Private Rented']),\n",
    "    1, 0)\n",
    "\n",
    "# Pensioners\n",
    "survey.loc[:, 'pensioners'] = np.where(\n",
    "    survey['household_type'] == 'Pensioners',\n",
    "    1, 0)\n",
    "\n",
    "# children\n",
    "survey.loc[:, 'children'] = np.where(\n",
    "    survey['household_type'] == 'With Children',\n",
    "    1, 0)\n",
    "\n",
    "# Urban\n",
    "survey.loc[:, 'urban'] = np.where(\n",
    "    survey['urban_rural_classification'] == 'Urban',\n",
    "    1, 0)\n",
    "\n",
    "# Female\n",
    "survey.loc[:, 'female'] = np.where(\n",
    "    survey['gender'] == 'Female',\n",
    "    1, 0)\n",
    "\n",
    "# Lowest quintile\n",
    "survey.loc[:, 'lowest_quintile'] = np.where(\n",
    "    survey['simd_quintiles'] == '20% most deprived',\n",
    "    1, 0)\n",
    "\n",
    "# White ethnicity\n",
    "survey.loc[:, 'white_ethnicity'] = np.where(\n",
    "    survey['ethnicity'] == 'White',\n",
    "    1, 0)\n",
    "\n",
    "survey = survey.drop(columns=[\n",
    "    'neighbourhood_rating', 'gender', 'urban_rural_classification',\n",
    "    'simd_quintiles', 'type_of_tenure', 'household_type', 'ethnicity',\n",
    "    'walking_distance_to_nearest_greenspace', 'community_belonging']).copy()"
   ]
  },
  {
   "cell_type": "code",
   "execution_count": null,
   "id": "7836740a-58e6-4eca-b084-65bae8f4cd15",
   "metadata": {},
   "outputs": [],
   "source": [
    "survey.sample(20)"
   ]
  },
  {
   "cell_type": "code",
   "execution_count": null,
   "id": "edbeaa5a",
   "metadata": {},
   "outputs": [],
   "source": [
    "survey.good_neighbourhood.value_counts()[1] / survey.good_neighbourhood.value_counts()[0]"
   ]
  },
  {
   "cell_type": "markdown",
   "id": "9a5dde74-afed-40cc-a659-ffe1f305564b",
   "metadata": {},
   "source": [
    "By encoding data in this way, we can treat the constant value 'All' as the absence of a feature rather than a feature being held constant. With enough data points this will be sufficient to generate predictions, albeit the model may not be useful to explain why certain features correlate with higher ratings."
   ]
  },
  {
   "cell_type": "markdown",
   "id": "7a996871-56a2-4484-b5f7-9a04b1c6df3c",
   "metadata": {},
   "source": [
    "# Splitting test and train sets\n",
    "\n",
    "Given that this data is dated, let us split it by date instead of at random. 2019 will become the test set and the model will be trained with the rest."
   ]
  },
  {
   "cell_type": "code",
   "execution_count": null,
   "id": "21e87290-b698-42ea-a008-6a2d412c0f41",
   "metadata": {},
   "outputs": [],
   "source": [
    "survey.datecode.value_counts()"
   ]
  },
  {
   "cell_type": "markdown",
   "id": "240bf456-114b-4009-8e55-4ac2bc66f24e",
   "metadata": {},
   "source": [
    "Each year corresponds approximately with 1/7 th of the data, or 14%. For the train and test sets, let us drop both ratings from the train set as there might be a strong correlation between how people rate their community and their neighbourhood, so using each rating to predict the other would be circular."
   ]
  },
  {
   "cell_type": "code",
   "execution_count": 355,
   "id": "491faa06",
   "metadata": {},
   "outputs": [
    {
     "data": {
      "text/html": [
       "<div>\n",
       "<style scoped>\n",
       "    .dataframe tbody tr th:only-of-type {\n",
       "        vertical-align: middle;\n",
       "    }\n",
       "\n",
       "    .dataframe tbody tr th {\n",
       "        vertical-align: top;\n",
       "    }\n",
       "\n",
       "    .dataframe thead th {\n",
       "        text-align: right;\n",
       "    }\n",
       "</style>\n",
       "<table border=\"1\" class=\"dataframe\">\n",
       "  <thead>\n",
       "    <tr style=\"text-align: right;\">\n",
       "      <th></th>\n",
       "      <th>value</th>\n",
       "      <th>neighbourhood_rating</th>\n",
       "      <th>gender</th>\n",
       "      <th>urban_rural_classification</th>\n",
       "      <th>simd_quintiles</th>\n",
       "      <th>type_of_tenure</th>\n",
       "      <th>household_type</th>\n",
       "      <th>ethnicity</th>\n",
       "      <th>walking_distance_to_nearest_greenspace</th>\n",
       "      <th>community_belonging</th>\n",
       "    </tr>\n",
       "  </thead>\n",
       "  <tbody>\n",
       "    <tr>\n",
       "      <th>14</th>\n",
       "      <td>26.0</td>\n",
       "      <td>Fairly good</td>\n",
       "      <td>All</td>\n",
       "      <td>All</td>\n",
       "      <td>All</td>\n",
       "      <td>All</td>\n",
       "      <td>All</td>\n",
       "      <td>All</td>\n",
       "      <td>More than 10 minutes</td>\n",
       "      <td>All</td>\n",
       "    </tr>\n",
       "    <tr>\n",
       "      <th>15</th>\n",
       "      <td>46.0</td>\n",
       "      <td>Fairly good</td>\n",
       "      <td>All</td>\n",
       "      <td>All</td>\n",
       "      <td>All</td>\n",
       "      <td>All</td>\n",
       "      <td>All</td>\n",
       "      <td>All</td>\n",
       "      <td>More than 10 minutes</td>\n",
       "      <td>All</td>\n",
       "    </tr>\n",
       "    <tr>\n",
       "      <th>20</th>\n",
       "      <td>5.0</td>\n",
       "      <td>Very poor</td>\n",
       "      <td>All</td>\n",
       "      <td>All</td>\n",
       "      <td>All</td>\n",
       "      <td>All</td>\n",
       "      <td>All</td>\n",
       "      <td>All</td>\n",
       "      <td>More than 10 minutes</td>\n",
       "      <td>All</td>\n",
       "    </tr>\n",
       "    <tr>\n",
       "      <th>26</th>\n",
       "      <td>46.0</td>\n",
       "      <td>Fairly good</td>\n",
       "      <td>All</td>\n",
       "      <td>All</td>\n",
       "      <td>All</td>\n",
       "      <td>All</td>\n",
       "      <td>All</td>\n",
       "      <td>All</td>\n",
       "      <td>More than 10 minutes</td>\n",
       "      <td>All</td>\n",
       "    </tr>\n",
       "    <tr>\n",
       "      <th>27</th>\n",
       "      <td>37.0</td>\n",
       "      <td>Fairly good</td>\n",
       "      <td>All</td>\n",
       "      <td>All</td>\n",
       "      <td>All</td>\n",
       "      <td>All</td>\n",
       "      <td>All</td>\n",
       "      <td>All</td>\n",
       "      <td>More than 10 minutes</td>\n",
       "      <td>All</td>\n",
       "    </tr>\n",
       "    <tr>\n",
       "      <th>...</th>\n",
       "      <td>...</td>\n",
       "      <td>...</td>\n",
       "      <td>...</td>\n",
       "      <td>...</td>\n",
       "      <td>...</td>\n",
       "      <td>...</td>\n",
       "      <td>...</td>\n",
       "      <td>...</td>\n",
       "      <td>...</td>\n",
       "      <td>...</td>\n",
       "    </tr>\n",
       "    <tr>\n",
       "      <th>77931</th>\n",
       "      <td>25.0</td>\n",
       "      <td>All</td>\n",
       "      <td>All</td>\n",
       "      <td>All</td>\n",
       "      <td>All</td>\n",
       "      <td>Private Rented</td>\n",
       "      <td>All</td>\n",
       "      <td>All</td>\n",
       "      <td>All</td>\n",
       "      <td>Very strongly</td>\n",
       "    </tr>\n",
       "    <tr>\n",
       "      <th>77935</th>\n",
       "      <td>30.0</td>\n",
       "      <td>All</td>\n",
       "      <td>All</td>\n",
       "      <td>All</td>\n",
       "      <td>All</td>\n",
       "      <td>Private Rented</td>\n",
       "      <td>All</td>\n",
       "      <td>All</td>\n",
       "      <td>All</td>\n",
       "      <td>Not very strongly</td>\n",
       "    </tr>\n",
       "    <tr>\n",
       "      <th>77936</th>\n",
       "      <td>28.0</td>\n",
       "      <td>All</td>\n",
       "      <td>All</td>\n",
       "      <td>All</td>\n",
       "      <td>All</td>\n",
       "      <td>Private Rented</td>\n",
       "      <td>All</td>\n",
       "      <td>All</td>\n",
       "      <td>All</td>\n",
       "      <td>Not very strongly</td>\n",
       "    </tr>\n",
       "    <tr>\n",
       "      <th>77938</th>\n",
       "      <td>18.0</td>\n",
       "      <td>All</td>\n",
       "      <td>All</td>\n",
       "      <td>All</td>\n",
       "      <td>All</td>\n",
       "      <td>Private Rented</td>\n",
       "      <td>All</td>\n",
       "      <td>All</td>\n",
       "      <td>All</td>\n",
       "      <td>Not at all strongly</td>\n",
       "    </tr>\n",
       "    <tr>\n",
       "      <th>77940</th>\n",
       "      <td>8.0</td>\n",
       "      <td>All</td>\n",
       "      <td>All</td>\n",
       "      <td>All</td>\n",
       "      <td>All</td>\n",
       "      <td>Private Rented</td>\n",
       "      <td>All</td>\n",
       "      <td>All</td>\n",
       "      <td>All</td>\n",
       "      <td>Not at all strongly</td>\n",
       "    </tr>\n",
       "  </tbody>\n",
       "</table>\n",
       "<p>20807 rows × 10 columns</p>\n",
       "</div>"
      ],
      "text/plain": [
       "       value neighbourhood_rating gender urban_rural_classification  \\\n",
       "14      26.0          Fairly good    All                        All   \n",
       "15      46.0          Fairly good    All                        All   \n",
       "20       5.0            Very poor    All                        All   \n",
       "26      46.0          Fairly good    All                        All   \n",
       "27      37.0          Fairly good    All                        All   \n",
       "...      ...                  ...    ...                        ...   \n",
       "77931   25.0                  All    All                        All   \n",
       "77935   30.0                  All    All                        All   \n",
       "77936   28.0                  All    All                        All   \n",
       "77938   18.0                  All    All                        All   \n",
       "77940    8.0                  All    All                        All   \n",
       "\n",
       "      simd_quintiles  type_of_tenure household_type ethnicity  \\\n",
       "14               All             All            All       All   \n",
       "15               All             All            All       All   \n",
       "20               All             All            All       All   \n",
       "26               All             All            All       All   \n",
       "27               All             All            All       All   \n",
       "...              ...             ...            ...       ...   \n",
       "77931            All  Private Rented            All       All   \n",
       "77935            All  Private Rented            All       All   \n",
       "77936            All  Private Rented            All       All   \n",
       "77938            All  Private Rented            All       All   \n",
       "77940            All  Private Rented            All       All   \n",
       "\n",
       "      walking_distance_to_nearest_greenspace  community_belonging  \n",
       "14                      More than 10 minutes                  All  \n",
       "15                      More than 10 minutes                  All  \n",
       "20                      More than 10 minutes                  All  \n",
       "26                      More than 10 minutes                  All  \n",
       "27                      More than 10 minutes                  All  \n",
       "...                                      ...                  ...  \n",
       "77931                                    All        Very strongly  \n",
       "77935                                    All    Not very strongly  \n",
       "77936                                    All    Not very strongly  \n",
       "77938                                    All  Not at all strongly  \n",
       "77940                                    All  Not at all strongly  \n",
       "\n",
       "[20807 rows x 10 columns]"
      ]
     },
     "execution_count": 355,
     "metadata": {},
     "output_type": "execute_result"
    }
   ],
   "source": [
    "train"
   ]
  },
  {
   "cell_type": "code",
   "execution_count": null,
   "id": "77dd4d74-b061-42b4-a57e-2c23f326ef5f",
   "metadata": {},
   "outputs": [],
   "source": [
    "# Train and test split\n",
    "train = survey.query(\"datecode != 2019\").drop('datecode', axis=1)\n",
    "\n",
    "test = survey.query(\"datecode == 2019\").drop('datecode', axis=1)\n",
    "\n",
    "# Now drop both targets from the predictor sets\n",
    "X_test = test.drop(columns=['good_neighbourhood', 'good_community'])\n",
    "X_train = train.drop(columns=['good_neighbourhood', 'good_community'])\n",
    "\n",
    "# Create both targets\n",
    "community_test = test.good_community\n",
    "community_train = train.good_community\n",
    "\n",
    "neighbourhood_test = test.good_neighbourhood\n",
    "neighbourhood_train = train.good_neighbourhood"
   ]
  },
  {
   "cell_type": "markdown",
   "id": "241fb07b-f4ff-41c4-9257-b7cb33d54ce3",
   "metadata": {},
   "source": [
    "# Building the pipelines"
   ]
  },
  {
   "cell_type": "code",
   "execution_count": null,
   "id": "6e302fff-8be0-4147-9b57-5feb78d6e83d",
   "metadata": {},
   "outputs": [],
   "source": [
    "log_pipe = Pipeline([\n",
    "    ('split', ColumnTransformer([\n",
    "        ('green_access', \n",
    "         OneHotEncoder(categories=[survey.green_access.unique()], drop='first', handle_unknown='error'), ['green_access']),\n",
    "        ('owners', \n",
    "         OneHotEncoder(categories=[survey.owners.unique()], drop='first', handle_unknown='error'), ['owners']), \n",
    "        ('tenants', \n",
    "         OneHotEncoder(categories=[survey.tenants.unique()], drop='first', handle_unknown='error'), ['tenants']), \n",
    "        ('pensioners', \n",
    "         OneHotEncoder(categories=[survey.pensioners.unique()], drop='first', handle_unknown='error'), ['pensioners']),\n",
    "         ('children', \n",
    "         OneHotEncoder(categories=[survey.children.unique()], drop='first', handle_unknown='error'), ['children']),\n",
    "        ('urban', \n",
    "         OneHotEncoder(categories=[survey.urban.unique()], drop='first', handle_unknown='error'), ['urban']),\n",
    "         ('female', \n",
    "         OneHotEncoder(categories=[survey.female.unique()], drop='first', handle_unknown='error'), ['female']),\n",
    "         ('lowest_quintile', \n",
    "         OneHotEncoder(categories=[survey.lowest_quintile.unique()], drop='first', handle_unknown='error'), ['lowest_quintile']),\n",
    "         ('white_ethnicity', \n",
    "         OneHotEncoder(categories=[survey.white_ethnicity.unique()], drop='first', handle_unknown='error'), ['white_ethnicity']),\n",
    "        ('value', Pipeline([\n",
    "                ('scale', StandardScaler())\n",
    "            ]), ['value'])\n",
    "    ])),\n",
    "    # ('poly', PolynomialFeatures(degree=2, include_bias=False, interaction_only=True)),\n",
    "    ('classifier', LogisticRegression())\n",
    "])"
   ]
  },
  {
   "cell_type": "markdown",
   "id": "20c03c3d",
   "metadata": {},
   "source": [
    "# Scoring the models"
   ]
  },
  {
   "cell_type": "markdown",
   "id": "f8393540",
   "metadata": {},
   "source": [
    "## Neighbourhood ratings model"
   ]
  },
  {
   "cell_type": "code",
   "execution_count": null,
   "id": "d210b0e3-3090-480f-beae-53be80c73e09",
   "metadata": {},
   "outputs": [],
   "source": [
    "# Fitting the model to the train set for the neighbourhood rating\n",
    "log_pipe.fit(X_train, neighbourhood_train);"
   ]
  },
  {
   "cell_type": "code",
   "execution_count": null,
   "id": "00e49a62",
   "metadata": {},
   "outputs": [],
   "source": [
    "print('MAE train for Logistic Regression:', mean_absolute_error(neighbourhood_train, log_pipe.predict(X_train)))\n",
    "print('MAE test for Logistic Regression:', mean_absolute_error(neighbourhood_test, log_pipe.predict(X_test)))"
   ]
  },
  {
   "cell_type": "markdown",
   "id": "db9d47f3",
   "metadata": {},
   "source": [
    "The mean absolute error for the test and train sets is very similar, suggesting that the model is not over-fitting."
   ]
  },
  {
   "cell_type": "code",
   "execution_count": null,
   "id": "41deb0ab",
   "metadata": {},
   "outputs": [],
   "source": [
    "print(f\"Logistic Regression model train mean accuracy: {cross_val_score(log_pipe, X_train, neighbourhood_train, scoring='accuracy', cv=5).mean()}.\")\n",
    "print(f\"Logistic Regression model test mean accuracy: {cross_val_score(log_pipe, X_test, neighbourhood_test, scoring='accuracy', cv=5).mean()}.\")"
   ]
  },
  {
   "cell_type": "markdown",
   "id": "b1b8cab9",
   "metadata": {},
   "source": [
    "Accuracy is good for this model, and similar in the test and train sets."
   ]
  },
  {
   "cell_type": "code",
   "execution_count": null,
   "id": "5dd20bfb",
   "metadata": {},
   "outputs": [],
   "source": [
    "print('AUC train for Logistic Regression:', roc_auc_score(neighbourhood_train, log_pipe.predict(X_train)))\n",
    "print('AUC test for Logistic Regression:', roc_auc_score(neighbourhood_test, log_pipe.predict(X_test)))"
   ]
  },
  {
   "cell_type": "markdown",
   "id": "4e0d8e73",
   "metadata": {},
   "source": [
    "## Community belonging model"
   ]
  },
  {
   "cell_type": "code",
   "execution_count": null,
   "id": "f12a9b21",
   "metadata": {},
   "outputs": [],
   "source": [
    "# Fitting the model to the train set for the community belonging rating\n",
    "log_pipe.fit(X_train, community_train);"
   ]
  },
  {
   "cell_type": "code",
   "execution_count": null,
   "id": "00e49a62",
   "metadata": {},
   "outputs": [],
   "source": [
    "print('MAE train for Logistic Regression:', mean_absolute_error(community_train, log_pipe.predict(X_train)))\n",
    "print('MAE test for Logistic Regression:', mean_absolute_error(community_test, log_pipe.predict(X_test)))"
   ]
  },
  {
   "cell_type": "code",
   "execution_count": null,
   "id": "41deb0ab",
   "metadata": {},
   "outputs": [],
   "source": [
    "print(f\"Logistic Regression model train mean accuracy: {cross_val_score(log_pipe, X_train, community_train, scoring='accuracy', cv=5).mean()}.\")\n",
    "print(f\"Logistic Regression model test mean accuracy: {cross_val_score(log_pipe, X_test, community_test, scoring='accuracy', cv=5).mean()}.\")"
   ]
  },
  {
   "cell_type": "code",
   "execution_count": null,
   "id": "5dd20bfb",
   "metadata": {},
   "outputs": [],
   "source": [
    "print('AUC train for Logistic Regression:', roc_auc_score(community_train, log_pipe.predict(X_train)))\n",
    "print('AUC test for Logistic Regression:', roc_auc_score(community_test, log_pipe.predict(X_test)))"
   ]
  },
  {
   "cell_type": "markdown",
   "id": "b137cb67",
   "metadata": {},
   "source": [
    "# Second approach: random forest classifier.\n",
    "\n",
    "Given that the feature engineering and logistic regression has not been successful in the goal of creating an accurate model, another approach will be considered."
   ]
  },
  {
   "cell_type": "code",
   "execution_count": 349,
   "id": "cd497d30",
   "metadata": {},
   "outputs": [
    {
     "data": {
      "text/html": [
       "<div>\n",
       "<style scoped>\n",
       "    .dataframe tbody tr th:only-of-type {\n",
       "        vertical-align: middle;\n",
       "    }\n",
       "\n",
       "    .dataframe tbody tr th {\n",
       "        vertical-align: top;\n",
       "    }\n",
       "\n",
       "    .dataframe thead th {\n",
       "        text-align: right;\n",
       "    }\n",
       "</style>\n",
       "<table border=\"1\" class=\"dataframe\">\n",
       "  <thead>\n",
       "    <tr style=\"text-align: right;\">\n",
       "      <th></th>\n",
       "      <th>datecode</th>\n",
       "      <th>value</th>\n",
       "      <th>neighbourhood_rating</th>\n",
       "      <th>gender</th>\n",
       "      <th>urban_rural_classification</th>\n",
       "      <th>simd_quintiles</th>\n",
       "      <th>type_of_tenure</th>\n",
       "      <th>household_type</th>\n",
       "      <th>ethnicity</th>\n",
       "      <th>walking_distance_to_nearest_greenspace</th>\n",
       "      <th>community_belonging</th>\n",
       "    </tr>\n",
       "  </thead>\n",
       "  <tbody>\n",
       "    <tr>\n",
       "      <th>35931</th>\n",
       "      <td>2017</td>\n",
       "      <td>66.0</td>\n",
       "      <td>Very good</td>\n",
       "      <td>All</td>\n",
       "      <td>All</td>\n",
       "      <td>All</td>\n",
       "      <td>All</td>\n",
       "      <td>All</td>\n",
       "      <td>All</td>\n",
       "      <td>All</td>\n",
       "      <td>All</td>\n",
       "    </tr>\n",
       "    <tr>\n",
       "      <th>26396</th>\n",
       "      <td>2013</td>\n",
       "      <td>8.0</td>\n",
       "      <td>Fairly poor</td>\n",
       "      <td>All</td>\n",
       "      <td>All</td>\n",
       "      <td>All</td>\n",
       "      <td>All</td>\n",
       "      <td>With Children</td>\n",
       "      <td>All</td>\n",
       "      <td>All</td>\n",
       "      <td>All</td>\n",
       "    </tr>\n",
       "    <tr>\n",
       "      <th>48137</th>\n",
       "      <td>2017</td>\n",
       "      <td>40.0</td>\n",
       "      <td>All</td>\n",
       "      <td>All</td>\n",
       "      <td>All</td>\n",
       "      <td>All</td>\n",
       "      <td>Owned Mortgage/Loan</td>\n",
       "      <td>All</td>\n",
       "      <td>All</td>\n",
       "      <td>All</td>\n",
       "      <td>Very strongly</td>\n",
       "    </tr>\n",
       "    <tr>\n",
       "      <th>19243</th>\n",
       "      <td>2018</td>\n",
       "      <td>56.0</td>\n",
       "      <td>Very good</td>\n",
       "      <td>Male</td>\n",
       "      <td>All</td>\n",
       "      <td>All</td>\n",
       "      <td>All</td>\n",
       "      <td>All</td>\n",
       "      <td>All</td>\n",
       "      <td>All</td>\n",
       "      <td>All</td>\n",
       "    </tr>\n",
       "    <tr>\n",
       "      <th>60041</th>\n",
       "      <td>2017</td>\n",
       "      <td>45.0</td>\n",
       "      <td>All</td>\n",
       "      <td>Male</td>\n",
       "      <td>All</td>\n",
       "      <td>All</td>\n",
       "      <td>All</td>\n",
       "      <td>All</td>\n",
       "      <td>All</td>\n",
       "      <td>All</td>\n",
       "      <td>Very strongly</td>\n",
       "    </tr>\n",
       "    <tr>\n",
       "      <th>77789</th>\n",
       "      <td>2019</td>\n",
       "      <td>19.0</td>\n",
       "      <td>All</td>\n",
       "      <td>All</td>\n",
       "      <td>All</td>\n",
       "      <td>All</td>\n",
       "      <td>Social Rented</td>\n",
       "      <td>All</td>\n",
       "      <td>All</td>\n",
       "      <td>All</td>\n",
       "      <td>Not very strongly</td>\n",
       "    </tr>\n",
       "    <tr>\n",
       "      <th>54752</th>\n",
       "      <td>2018</td>\n",
       "      <td>9.0</td>\n",
       "      <td>All</td>\n",
       "      <td>Female</td>\n",
       "      <td>All</td>\n",
       "      <td>All</td>\n",
       "      <td>All</td>\n",
       "      <td>All</td>\n",
       "      <td>All</td>\n",
       "      <td>All</td>\n",
       "      <td>Not very strongly</td>\n",
       "    </tr>\n",
       "    <tr>\n",
       "      <th>17237</th>\n",
       "      <td>2015</td>\n",
       "      <td>22.0</td>\n",
       "      <td>Fairly good</td>\n",
       "      <td>All</td>\n",
       "      <td>All</td>\n",
       "      <td>All</td>\n",
       "      <td>All</td>\n",
       "      <td>All</td>\n",
       "      <td>White</td>\n",
       "      <td>All</td>\n",
       "      <td>All</td>\n",
       "    </tr>\n",
       "    <tr>\n",
       "      <th>66429</th>\n",
       "      <td>2018</td>\n",
       "      <td>8.0</td>\n",
       "      <td>All</td>\n",
       "      <td>All</td>\n",
       "      <td>All</td>\n",
       "      <td>All</td>\n",
       "      <td>All</td>\n",
       "      <td>Pensioners</td>\n",
       "      <td>All</td>\n",
       "      <td>All</td>\n",
       "      <td>Not very strongly</td>\n",
       "    </tr>\n",
       "    <tr>\n",
       "      <th>8907</th>\n",
       "      <td>2014</td>\n",
       "      <td>54.0</td>\n",
       "      <td>Fairly good</td>\n",
       "      <td>All</td>\n",
       "      <td>All</td>\n",
       "      <td>All</td>\n",
       "      <td>Owned Mortgage/Loan</td>\n",
       "      <td>All</td>\n",
       "      <td>All</td>\n",
       "      <td>All</td>\n",
       "      <td>All</td>\n",
       "    </tr>\n",
       "  </tbody>\n",
       "</table>\n",
       "</div>"
      ],
      "text/plain": [
       "       datecode  value neighbourhood_rating  gender  \\\n",
       "35931      2017   66.0            Very good     All   \n",
       "26396      2013    8.0          Fairly poor     All   \n",
       "48137      2017   40.0                  All     All   \n",
       "19243      2018   56.0            Very good    Male   \n",
       "60041      2017   45.0                  All    Male   \n",
       "77789      2019   19.0                  All     All   \n",
       "54752      2018    9.0                  All  Female   \n",
       "17237      2015   22.0          Fairly good     All   \n",
       "66429      2018    8.0                  All     All   \n",
       "8907       2014   54.0          Fairly good     All   \n",
       "\n",
       "      urban_rural_classification simd_quintiles       type_of_tenure  \\\n",
       "35931                        All            All                  All   \n",
       "26396                        All            All                  All   \n",
       "48137                        All            All  Owned Mortgage/Loan   \n",
       "19243                        All            All                  All   \n",
       "60041                        All            All                  All   \n",
       "77789                        All            All        Social Rented   \n",
       "54752                        All            All                  All   \n",
       "17237                        All            All                  All   \n",
       "66429                        All            All                  All   \n",
       "8907                         All            All  Owned Mortgage/Loan   \n",
       "\n",
       "      household_type ethnicity walking_distance_to_nearest_greenspace  \\\n",
       "35931            All       All                                    All   \n",
       "26396  With Children       All                                    All   \n",
       "48137            All       All                                    All   \n",
       "19243            All       All                                    All   \n",
       "60041            All       All                                    All   \n",
       "77789            All       All                                    All   \n",
       "54752            All       All                                    All   \n",
       "17237            All     White                                    All   \n",
       "66429     Pensioners       All                                    All   \n",
       "8907             All       All                                    All   \n",
       "\n",
       "      community_belonging  \n",
       "35931                 All  \n",
       "26396                 All  \n",
       "48137       Very strongly  \n",
       "19243                 All  \n",
       "60041       Very strongly  \n",
       "77789   Not very strongly  \n",
       "54752   Not very strongly  \n",
       "17237                 All  \n",
       "66429   Not very strongly  \n",
       "8907                  All  "
      ]
     },
     "execution_count": 349,
     "metadata": {},
     "output_type": "execute_result"
    }
   ],
   "source": [
    "raw_survey = (\n",
    "    pd.merge(neighbourhood, community, how='outer')\n",
    "    .query(\"featurecode != 'S92000003' & measurement == 'Percent'\")\n",
    "    .drop(columns=['measurement', 'units', 'featurecode'])\n",
    "    .fillna('All')\n",
    ")\n",
    "\n",
    "raw_survey.sample(10)"
   ]
  },
  {
   "cell_type": "code",
   "execution_count": null,
   "id": "5b27ff4f",
   "metadata": {},
   "outputs": [],
   "source": [
    "ProfileReport(raw_survey)"
   ]
  },
  {
   "cell_type": "code",
   "execution_count": 350,
   "id": "216f6b37",
   "metadata": {},
   "outputs": [],
   "source": [
    "rf_pipe = Pipeline([\n",
    "    ('split', ColumnTransformer([\n",
    "        ('gender', \n",
    "         OneHotEncoder(categories=[raw_survey.gender.unique()], drop='first', handle_unknown='error'), ['gender']), \n",
    "        ('urban_rural_classification', \n",
    "         OneHotEncoder(categories=[raw_survey.urban_rural_classification.unique()], drop='first', handle_unknown='error'), ['urban_rural_classification']), \n",
    "        ('simd_quintiles', \n",
    "         OneHotEncoder(categories=[raw_survey.simd_quintiles.unique()], drop='first', handle_unknown='error'), ['simd_quintiles']),\n",
    "         ('type_of_tenure', \n",
    "         OneHotEncoder(categories=[raw_survey.type_of_tenure.unique()], drop='first', handle_unknown='error'), ['type_of_tenure']),\n",
    "        ('household_type', \n",
    "         OneHotEncoder(categories=[raw_survey.household_type.unique()], drop='first', handle_unknown='error'), ['household_type']),\n",
    "         ('ethnicity', \n",
    "         OneHotEncoder(categories=[raw_survey.ethnicity.unique()], drop='first', handle_unknown='error'), ['ethnicity']),\n",
    "         ('walking_distance_to_nearest_greenspace', \n",
    "         OneHotEncoder(categories=[raw_survey.walking_distance_to_nearest_greenspace.unique()], drop='first', handle_unknown='error'), ['walking_distance_to_nearest_greenspace']),\n",
    "        ('value', Pipeline([\n",
    "                ('scale', StandardScaler())\n",
    "            ]), ['value'])\n",
    "    ])),\n",
    "    ('classifier', RandomForestClassifier())\n",
    "])"
   ]
  },
  {
   "cell_type": "code",
   "execution_count": 343,
   "id": "cce131d6",
   "metadata": {},
   "outputs": [],
   "source": [
    "# Convert all objects to categorical data\n",
    "raw_survey.iloc[:, 2:] = raw_survey.select_dtypes(include='object').astype('category')"
   ]
  },
  {
   "cell_type": "code",
   "execution_count": 351,
   "id": "244521a1",
   "metadata": {},
   "outputs": [],
   "source": [
    "# Train and test split\n",
    "train = raw_survey.query(\"datecode != 2019\").drop('datecode', axis=1)\n",
    "\n",
    "test = raw_survey.query(\"datecode == 2019\").drop('datecode', axis=1)\n",
    "\n",
    "# Now drop both targets from the predictor sets\n",
    "X_test = test.drop(columns=['neighbourhood_rating', 'community_belonging'])\n",
    "X_train = train.drop(columns=['neighbourhood_rating', 'community_belonging'])\n",
    "\n",
    "# Create both targets\n",
    "community_test = test.community_belonging\n",
    "community_train = train.community_belonging\n",
    "\n",
    "neighbourhood_test = test.neighbourhood_rating\n",
    "neighbourhood_train = train.neighbourhood_rating"
   ]
  },
  {
   "cell_type": "code",
   "execution_count": 339,
   "id": "62bb99d5",
   "metadata": {},
   "outputs": [
    {
     "data": {
      "text/plain": [
       "value                                      float64\n",
       "gender                                    category\n",
       "urban_rural_classification                category\n",
       "simd_quintiles                            category\n",
       "type_of_tenure                            category\n",
       "household_type                            category\n",
       "ethnicity                                 category\n",
       "walking_distance_to_nearest_greenspace    category\n",
       "dtype: object"
      ]
     },
     "execution_count": 339,
     "metadata": {},
     "output_type": "execute_result"
    }
   ],
   "source": [
    "X_train.dtypes"
   ]
  },
  {
   "cell_type": "markdown",
   "id": "562d56f1",
   "metadata": {},
   "source": [
    "## Neighbourhood rating"
   ]
  },
  {
   "cell_type": "code",
   "execution_count": 352,
   "id": "d210b0e3-3090-480f-beae-53be80c73e09",
   "metadata": {},
   "outputs": [],
   "source": [
    "# Fitting the model to the train set for the neighbourhood rating\n",
    "rf_pipe.fit(X_train, neighbourhood_train);"
   ]
  },
  {
   "cell_type": "code",
   "execution_count": 347,
   "id": "aac01c24",
   "metadata": {},
   "outputs": [
    {
     "data": {
      "text/plain": [
       "['All', 'Owned Mortgage/Loan', 'Owned Outright', 'Social Rented', 'Private Rented']\n",
       "Categories (5, object): ['All', 'Owned Mortgage/Loan', 'Owned Outright', 'Private Rented', 'Social Rented']"
      ]
     },
     "execution_count": 347,
     "metadata": {},
     "output_type": "execute_result"
    }
   ],
   "source": [
    "X_train.type_of_tenure.unique()"
   ]
  },
  {
   "cell_type": "code",
   "execution_count": 346,
   "id": "19173686",
   "metadata": {},
   "outputs": [
    {
     "ename": "ValueError",
     "evalue": "could not convert string to float: 'All'",
     "output_type": "error",
     "traceback": [
      "\u001b[0;31m---------------------------------------------------------------------------\u001b[0m",
      "\u001b[0;31mValueError\u001b[0m                                Traceback (most recent call last)",
      "\u001b[1;32m/Users/reu/codeclan/survey_project/predictive_modelling.ipynb Cell 42'\u001b[0m in \u001b[0;36m<module>\u001b[0;34m\u001b[0m\n\u001b[1;32m      <a href='vscode-notebook-cell:/Users/reu/codeclan/survey_project/predictive_modelling.ipynb#ch0000064?line=0'>1</a>\u001b[0m X_train_novalue \u001b[39m=\u001b[39m X_train\u001b[39m.\u001b[39mdrop(\u001b[39m'\u001b[39m\u001b[39mvalue\u001b[39m\u001b[39m'\u001b[39m, axis\u001b[39m=\u001b[39m\u001b[39m1\u001b[39m)\u001b[39m.\u001b[39mcopy()\n\u001b[1;32m      <a href='vscode-notebook-cell:/Users/reu/codeclan/survey_project/predictive_modelling.ipynb#ch0000064?line=2'>3</a>\u001b[0m rf \u001b[39m=\u001b[39m RandomForestClassifier()\n\u001b[0;32m----> <a href='vscode-notebook-cell:/Users/reu/codeclan/survey_project/predictive_modelling.ipynb#ch0000064?line=3'>4</a>\u001b[0m rf\u001b[39m.\u001b[39;49mfit(X_train_novalue, neighbourhood_train)\n",
      "File \u001b[0;32m/opt/homebrew/Caskroom/miniforge/base/envs/ccenv/lib/python3.9/site-packages/sklearn/ensemble/_forest.py:327\u001b[0m, in \u001b[0;36mBaseForest.fit\u001b[0;34m(self, X, y, sample_weight)\u001b[0m\n\u001b[1;32m    <a href='file:///opt/homebrew/Caskroom/miniforge/base/envs/ccenv/lib/python3.9/site-packages/sklearn/ensemble/_forest.py?line=324'>325</a>\u001b[0m \u001b[39mif\u001b[39;00m issparse(y):\n\u001b[1;32m    <a href='file:///opt/homebrew/Caskroom/miniforge/base/envs/ccenv/lib/python3.9/site-packages/sklearn/ensemble/_forest.py?line=325'>326</a>\u001b[0m     \u001b[39mraise\u001b[39;00m \u001b[39mValueError\u001b[39;00m(\u001b[39m\"\u001b[39m\u001b[39msparse multilabel-indicator for y is not supported.\u001b[39m\u001b[39m\"\u001b[39m)\n\u001b[0;32m--> <a href='file:///opt/homebrew/Caskroom/miniforge/base/envs/ccenv/lib/python3.9/site-packages/sklearn/ensemble/_forest.py?line=326'>327</a>\u001b[0m X, y \u001b[39m=\u001b[39m \u001b[39mself\u001b[39;49m\u001b[39m.\u001b[39;49m_validate_data(\n\u001b[1;32m    <a href='file:///opt/homebrew/Caskroom/miniforge/base/envs/ccenv/lib/python3.9/site-packages/sklearn/ensemble/_forest.py?line=327'>328</a>\u001b[0m     X, y, multi_output\u001b[39m=\u001b[39;49m\u001b[39mTrue\u001b[39;49;00m, accept_sparse\u001b[39m=\u001b[39;49m\u001b[39m\"\u001b[39;49m\u001b[39mcsc\u001b[39;49m\u001b[39m\"\u001b[39;49m, dtype\u001b[39m=\u001b[39;49mDTYPE\n\u001b[1;32m    <a href='file:///opt/homebrew/Caskroom/miniforge/base/envs/ccenv/lib/python3.9/site-packages/sklearn/ensemble/_forest.py?line=328'>329</a>\u001b[0m )\n\u001b[1;32m    <a href='file:///opt/homebrew/Caskroom/miniforge/base/envs/ccenv/lib/python3.9/site-packages/sklearn/ensemble/_forest.py?line=329'>330</a>\u001b[0m \u001b[39mif\u001b[39;00m sample_weight \u001b[39mis\u001b[39;00m \u001b[39mnot\u001b[39;00m \u001b[39mNone\u001b[39;00m:\n\u001b[1;32m    <a href='file:///opt/homebrew/Caskroom/miniforge/base/envs/ccenv/lib/python3.9/site-packages/sklearn/ensemble/_forest.py?line=330'>331</a>\u001b[0m     sample_weight \u001b[39m=\u001b[39m _check_sample_weight(sample_weight, X)\n",
      "File \u001b[0;32m/opt/homebrew/Caskroom/miniforge/base/envs/ccenv/lib/python3.9/site-packages/sklearn/base.py:581\u001b[0m, in \u001b[0;36mBaseEstimator._validate_data\u001b[0;34m(self, X, y, reset, validate_separately, **check_params)\u001b[0m\n\u001b[1;32m    <a href='file:///opt/homebrew/Caskroom/miniforge/base/envs/ccenv/lib/python3.9/site-packages/sklearn/base.py?line=578'>579</a>\u001b[0m         y \u001b[39m=\u001b[39m check_array(y, \u001b[39m*\u001b[39m\u001b[39m*\u001b[39mcheck_y_params)\n\u001b[1;32m    <a href='file:///opt/homebrew/Caskroom/miniforge/base/envs/ccenv/lib/python3.9/site-packages/sklearn/base.py?line=579'>580</a>\u001b[0m     \u001b[39melse\u001b[39;00m:\n\u001b[0;32m--> <a href='file:///opt/homebrew/Caskroom/miniforge/base/envs/ccenv/lib/python3.9/site-packages/sklearn/base.py?line=580'>581</a>\u001b[0m         X, y \u001b[39m=\u001b[39m check_X_y(X, y, \u001b[39m*\u001b[39;49m\u001b[39m*\u001b[39;49mcheck_params)\n\u001b[1;32m    <a href='file:///opt/homebrew/Caskroom/miniforge/base/envs/ccenv/lib/python3.9/site-packages/sklearn/base.py?line=581'>582</a>\u001b[0m     out \u001b[39m=\u001b[39m X, y\n\u001b[1;32m    <a href='file:///opt/homebrew/Caskroom/miniforge/base/envs/ccenv/lib/python3.9/site-packages/sklearn/base.py?line=583'>584</a>\u001b[0m \u001b[39mif\u001b[39;00m \u001b[39mnot\u001b[39;00m no_val_X \u001b[39mand\u001b[39;00m check_params\u001b[39m.\u001b[39mget(\u001b[39m\"\u001b[39m\u001b[39mensure_2d\u001b[39m\u001b[39m\"\u001b[39m, \u001b[39mTrue\u001b[39;00m):\n",
      "File \u001b[0;32m/opt/homebrew/Caskroom/miniforge/base/envs/ccenv/lib/python3.9/site-packages/sklearn/utils/validation.py:964\u001b[0m, in \u001b[0;36mcheck_X_y\u001b[0;34m(X, y, accept_sparse, accept_large_sparse, dtype, order, copy, force_all_finite, ensure_2d, allow_nd, multi_output, ensure_min_samples, ensure_min_features, y_numeric, estimator)\u001b[0m\n\u001b[1;32m    <a href='file:///opt/homebrew/Caskroom/miniforge/base/envs/ccenv/lib/python3.9/site-packages/sklearn/utils/validation.py?line=960'>961</a>\u001b[0m \u001b[39mif\u001b[39;00m y \u001b[39mis\u001b[39;00m \u001b[39mNone\u001b[39;00m:\n\u001b[1;32m    <a href='file:///opt/homebrew/Caskroom/miniforge/base/envs/ccenv/lib/python3.9/site-packages/sklearn/utils/validation.py?line=961'>962</a>\u001b[0m     \u001b[39mraise\u001b[39;00m \u001b[39mValueError\u001b[39;00m(\u001b[39m\"\u001b[39m\u001b[39my cannot be None\u001b[39m\u001b[39m\"\u001b[39m)\n\u001b[0;32m--> <a href='file:///opt/homebrew/Caskroom/miniforge/base/envs/ccenv/lib/python3.9/site-packages/sklearn/utils/validation.py?line=963'>964</a>\u001b[0m X \u001b[39m=\u001b[39m check_array(\n\u001b[1;32m    <a href='file:///opt/homebrew/Caskroom/miniforge/base/envs/ccenv/lib/python3.9/site-packages/sklearn/utils/validation.py?line=964'>965</a>\u001b[0m     X,\n\u001b[1;32m    <a href='file:///opt/homebrew/Caskroom/miniforge/base/envs/ccenv/lib/python3.9/site-packages/sklearn/utils/validation.py?line=965'>966</a>\u001b[0m     accept_sparse\u001b[39m=\u001b[39;49maccept_sparse,\n\u001b[1;32m    <a href='file:///opt/homebrew/Caskroom/miniforge/base/envs/ccenv/lib/python3.9/site-packages/sklearn/utils/validation.py?line=966'>967</a>\u001b[0m     accept_large_sparse\u001b[39m=\u001b[39;49maccept_large_sparse,\n\u001b[1;32m    <a href='file:///opt/homebrew/Caskroom/miniforge/base/envs/ccenv/lib/python3.9/site-packages/sklearn/utils/validation.py?line=967'>968</a>\u001b[0m     dtype\u001b[39m=\u001b[39;49mdtype,\n\u001b[1;32m    <a href='file:///opt/homebrew/Caskroom/miniforge/base/envs/ccenv/lib/python3.9/site-packages/sklearn/utils/validation.py?line=968'>969</a>\u001b[0m     order\u001b[39m=\u001b[39;49morder,\n\u001b[1;32m    <a href='file:///opt/homebrew/Caskroom/miniforge/base/envs/ccenv/lib/python3.9/site-packages/sklearn/utils/validation.py?line=969'>970</a>\u001b[0m     copy\u001b[39m=\u001b[39;49mcopy,\n\u001b[1;32m    <a href='file:///opt/homebrew/Caskroom/miniforge/base/envs/ccenv/lib/python3.9/site-packages/sklearn/utils/validation.py?line=970'>971</a>\u001b[0m     force_all_finite\u001b[39m=\u001b[39;49mforce_all_finite,\n\u001b[1;32m    <a href='file:///opt/homebrew/Caskroom/miniforge/base/envs/ccenv/lib/python3.9/site-packages/sklearn/utils/validation.py?line=971'>972</a>\u001b[0m     ensure_2d\u001b[39m=\u001b[39;49mensure_2d,\n\u001b[1;32m    <a href='file:///opt/homebrew/Caskroom/miniforge/base/envs/ccenv/lib/python3.9/site-packages/sklearn/utils/validation.py?line=972'>973</a>\u001b[0m     allow_nd\u001b[39m=\u001b[39;49mallow_nd,\n\u001b[1;32m    <a href='file:///opt/homebrew/Caskroom/miniforge/base/envs/ccenv/lib/python3.9/site-packages/sklearn/utils/validation.py?line=973'>974</a>\u001b[0m     ensure_min_samples\u001b[39m=\u001b[39;49mensure_min_samples,\n\u001b[1;32m    <a href='file:///opt/homebrew/Caskroom/miniforge/base/envs/ccenv/lib/python3.9/site-packages/sklearn/utils/validation.py?line=974'>975</a>\u001b[0m     ensure_min_features\u001b[39m=\u001b[39;49mensure_min_features,\n\u001b[1;32m    <a href='file:///opt/homebrew/Caskroom/miniforge/base/envs/ccenv/lib/python3.9/site-packages/sklearn/utils/validation.py?line=975'>976</a>\u001b[0m     estimator\u001b[39m=\u001b[39;49mestimator,\n\u001b[1;32m    <a href='file:///opt/homebrew/Caskroom/miniforge/base/envs/ccenv/lib/python3.9/site-packages/sklearn/utils/validation.py?line=976'>977</a>\u001b[0m )\n\u001b[1;32m    <a href='file:///opt/homebrew/Caskroom/miniforge/base/envs/ccenv/lib/python3.9/site-packages/sklearn/utils/validation.py?line=978'>979</a>\u001b[0m y \u001b[39m=\u001b[39m _check_y(y, multi_output\u001b[39m=\u001b[39mmulti_output, y_numeric\u001b[39m=\u001b[39my_numeric)\n\u001b[1;32m    <a href='file:///opt/homebrew/Caskroom/miniforge/base/envs/ccenv/lib/python3.9/site-packages/sklearn/utils/validation.py?line=980'>981</a>\u001b[0m check_consistent_length(X, y)\n",
      "File \u001b[0;32m/opt/homebrew/Caskroom/miniforge/base/envs/ccenv/lib/python3.9/site-packages/sklearn/utils/validation.py:746\u001b[0m, in \u001b[0;36mcheck_array\u001b[0;34m(array, accept_sparse, accept_large_sparse, dtype, order, copy, force_all_finite, ensure_2d, allow_nd, ensure_min_samples, ensure_min_features, estimator)\u001b[0m\n\u001b[1;32m    <a href='file:///opt/homebrew/Caskroom/miniforge/base/envs/ccenv/lib/python3.9/site-packages/sklearn/utils/validation.py?line=743'>744</a>\u001b[0m         array \u001b[39m=\u001b[39m array\u001b[39m.\u001b[39mastype(dtype, casting\u001b[39m=\u001b[39m\u001b[39m\"\u001b[39m\u001b[39munsafe\u001b[39m\u001b[39m\"\u001b[39m, copy\u001b[39m=\u001b[39m\u001b[39mFalse\u001b[39;00m)\n\u001b[1;32m    <a href='file:///opt/homebrew/Caskroom/miniforge/base/envs/ccenv/lib/python3.9/site-packages/sklearn/utils/validation.py?line=744'>745</a>\u001b[0m     \u001b[39melse\u001b[39;00m:\n\u001b[0;32m--> <a href='file:///opt/homebrew/Caskroom/miniforge/base/envs/ccenv/lib/python3.9/site-packages/sklearn/utils/validation.py?line=745'>746</a>\u001b[0m         array \u001b[39m=\u001b[39m np\u001b[39m.\u001b[39;49masarray(array, order\u001b[39m=\u001b[39;49morder, dtype\u001b[39m=\u001b[39;49mdtype)\n\u001b[1;32m    <a href='file:///opt/homebrew/Caskroom/miniforge/base/envs/ccenv/lib/python3.9/site-packages/sklearn/utils/validation.py?line=746'>747</a>\u001b[0m \u001b[39mexcept\u001b[39;00m ComplexWarning \u001b[39mas\u001b[39;00m complex_warning:\n\u001b[1;32m    <a href='file:///opt/homebrew/Caskroom/miniforge/base/envs/ccenv/lib/python3.9/site-packages/sklearn/utils/validation.py?line=747'>748</a>\u001b[0m     \u001b[39mraise\u001b[39;00m \u001b[39mValueError\u001b[39;00m(\n\u001b[1;32m    <a href='file:///opt/homebrew/Caskroom/miniforge/base/envs/ccenv/lib/python3.9/site-packages/sklearn/utils/validation.py?line=748'>749</a>\u001b[0m         \u001b[39m\"\u001b[39m\u001b[39mComplex data not supported\u001b[39m\u001b[39m\\n\u001b[39;00m\u001b[39m{}\u001b[39;00m\u001b[39m\\n\u001b[39;00m\u001b[39m\"\u001b[39m\u001b[39m.\u001b[39mformat(array)\n\u001b[1;32m    <a href='file:///opt/homebrew/Caskroom/miniforge/base/envs/ccenv/lib/python3.9/site-packages/sklearn/utils/validation.py?line=749'>750</a>\u001b[0m     ) \u001b[39mfrom\u001b[39;00m \u001b[39mcomplex_warning\u001b[39;00m\n",
      "File \u001b[0;32m/opt/homebrew/Caskroom/miniforge/base/envs/ccenv/lib/python3.9/site-packages/pandas/core/generic.py:2072\u001b[0m, in \u001b[0;36mNDFrame.__array__\u001b[0;34m(self, dtype)\u001b[0m\n\u001b[1;32m   <a href='file:///opt/homebrew/Caskroom/miniforge/base/envs/ccenv/lib/python3.9/site-packages/pandas/core/generic.py?line=2070'>2071</a>\u001b[0m \u001b[39mdef\u001b[39;00m \u001b[39m__array__\u001b[39m(\u001b[39mself\u001b[39m, dtype: npt\u001b[39m.\u001b[39mDTypeLike \u001b[39m|\u001b[39m \u001b[39mNone\u001b[39;00m \u001b[39m=\u001b[39m \u001b[39mNone\u001b[39;00m) \u001b[39m-\u001b[39m\u001b[39m>\u001b[39m np\u001b[39m.\u001b[39mndarray:\n\u001b[0;32m-> <a href='file:///opt/homebrew/Caskroom/miniforge/base/envs/ccenv/lib/python3.9/site-packages/pandas/core/generic.py?line=2071'>2072</a>\u001b[0m     \u001b[39mreturn\u001b[39;00m np\u001b[39m.\u001b[39;49masarray(\u001b[39mself\u001b[39;49m\u001b[39m.\u001b[39;49m_values, dtype\u001b[39m=\u001b[39;49mdtype)\n",
      "\u001b[0;31mValueError\u001b[0m: could not convert string to float: 'All'"
     ]
    }
   ],
   "source": [
    "X_train_novalue = X_train.drop('value', axis=1).copy()\n",
    "\n",
    "rf = RandomForestClassifier()\n",
    "rf.fit(X_train_novalue, neighbourhood_train)"
   ]
  },
  {
   "cell_type": "code",
   "execution_count": 304,
   "id": "00e49a62",
   "metadata": {},
   "outputs": [
    {
     "ename": "ValueError",
     "evalue": "could not convert string to float: 'Fairly good'",
     "output_type": "error",
     "traceback": [
      "\u001b[0;31m---------------------------------------------------------------------------\u001b[0m",
      "\u001b[0;31mValueError\u001b[0m                                Traceback (most recent call last)",
      "\u001b[1;32m/Users/reu/codeclan/survey_project/predictive_modelling.ipynb Cell 39'\u001b[0m in \u001b[0;36m<module>\u001b[0;34m\u001b[0m\n\u001b[0;32m----> <a href='vscode-notebook-cell:/Users/reu/codeclan/survey_project/predictive_modelling.ipynb#ch0000057?line=0'>1</a>\u001b[0m \u001b[39mprint\u001b[39m(\u001b[39m'\u001b[39m\u001b[39mMAE train for Logistic Regression:\u001b[39m\u001b[39m'\u001b[39m, mean_absolute_error(neighbourhood_train, rf_pipe\u001b[39m.\u001b[39;49mpredict(X_train)))\n\u001b[1;32m      <a href='vscode-notebook-cell:/Users/reu/codeclan/survey_project/predictive_modelling.ipynb#ch0000057?line=1'>2</a>\u001b[0m \u001b[39mprint\u001b[39m(\u001b[39m'\u001b[39m\u001b[39mMAE test for Logistic Regression:\u001b[39m\u001b[39m'\u001b[39m, mean_absolute_error(neighbourhood_test, rf_pipe\u001b[39m.\u001b[39mpredict(X_test)))\n",
      "File \u001b[0;32m/opt/homebrew/Caskroom/miniforge/base/envs/ccenv/lib/python3.9/site-packages/sklearn/metrics/_regression.py:191\u001b[0m, in \u001b[0;36mmean_absolute_error\u001b[0;34m(y_true, y_pred, sample_weight, multioutput)\u001b[0m\n\u001b[1;32m    <a href='file:///opt/homebrew/Caskroom/miniforge/base/envs/ccenv/lib/python3.9/site-packages/sklearn/metrics/_regression.py?line=134'>135</a>\u001b[0m \u001b[39mdef\u001b[39;00m \u001b[39mmean_absolute_error\u001b[39m(\n\u001b[1;32m    <a href='file:///opt/homebrew/Caskroom/miniforge/base/envs/ccenv/lib/python3.9/site-packages/sklearn/metrics/_regression.py?line=135'>136</a>\u001b[0m     y_true, y_pred, \u001b[39m*\u001b[39m, sample_weight\u001b[39m=\u001b[39m\u001b[39mNone\u001b[39;00m, multioutput\u001b[39m=\u001b[39m\u001b[39m\"\u001b[39m\u001b[39muniform_average\u001b[39m\u001b[39m\"\u001b[39m\n\u001b[1;32m    <a href='file:///opt/homebrew/Caskroom/miniforge/base/envs/ccenv/lib/python3.9/site-packages/sklearn/metrics/_regression.py?line=136'>137</a>\u001b[0m ):\n\u001b[1;32m    <a href='file:///opt/homebrew/Caskroom/miniforge/base/envs/ccenv/lib/python3.9/site-packages/sklearn/metrics/_regression.py?line=137'>138</a>\u001b[0m     \u001b[39m\"\"\"Mean absolute error regression loss.\u001b[39;00m\n\u001b[1;32m    <a href='file:///opt/homebrew/Caskroom/miniforge/base/envs/ccenv/lib/python3.9/site-packages/sklearn/metrics/_regression.py?line=138'>139</a>\u001b[0m \n\u001b[1;32m    <a href='file:///opt/homebrew/Caskroom/miniforge/base/envs/ccenv/lib/python3.9/site-packages/sklearn/metrics/_regression.py?line=139'>140</a>\u001b[0m \u001b[39m    Read more in the :ref:`User Guide <mean_absolute_error>`.\u001b[39;00m\n\u001b[0;32m   (...)\u001b[0m\n\u001b[1;32m    <a href='file:///opt/homebrew/Caskroom/miniforge/base/envs/ccenv/lib/python3.9/site-packages/sklearn/metrics/_regression.py?line=188'>189</a>\u001b[0m \u001b[39m    0.85...\u001b[39;00m\n\u001b[1;32m    <a href='file:///opt/homebrew/Caskroom/miniforge/base/envs/ccenv/lib/python3.9/site-packages/sklearn/metrics/_regression.py?line=189'>190</a>\u001b[0m \u001b[39m    \"\"\"\u001b[39;00m\n\u001b[0;32m--> <a href='file:///opt/homebrew/Caskroom/miniforge/base/envs/ccenv/lib/python3.9/site-packages/sklearn/metrics/_regression.py?line=190'>191</a>\u001b[0m     y_type, y_true, y_pred, multioutput \u001b[39m=\u001b[39m _check_reg_targets(\n\u001b[1;32m    <a href='file:///opt/homebrew/Caskroom/miniforge/base/envs/ccenv/lib/python3.9/site-packages/sklearn/metrics/_regression.py?line=191'>192</a>\u001b[0m         y_true, y_pred, multioutput\n\u001b[1;32m    <a href='file:///opt/homebrew/Caskroom/miniforge/base/envs/ccenv/lib/python3.9/site-packages/sklearn/metrics/_regression.py?line=192'>193</a>\u001b[0m     )\n\u001b[1;32m    <a href='file:///opt/homebrew/Caskroom/miniforge/base/envs/ccenv/lib/python3.9/site-packages/sklearn/metrics/_regression.py?line=193'>194</a>\u001b[0m     check_consistent_length(y_true, y_pred, sample_weight)\n\u001b[1;32m    <a href='file:///opt/homebrew/Caskroom/miniforge/base/envs/ccenv/lib/python3.9/site-packages/sklearn/metrics/_regression.py?line=194'>195</a>\u001b[0m     output_errors \u001b[39m=\u001b[39m np\u001b[39m.\u001b[39maverage(np\u001b[39m.\u001b[39mabs(y_pred \u001b[39m-\u001b[39m y_true), weights\u001b[39m=\u001b[39msample_weight, axis\u001b[39m=\u001b[39m\u001b[39m0\u001b[39m)\n",
      "File \u001b[0;32m/opt/homebrew/Caskroom/miniforge/base/envs/ccenv/lib/python3.9/site-packages/sklearn/metrics/_regression.py:95\u001b[0m, in \u001b[0;36m_check_reg_targets\u001b[0;34m(y_true, y_pred, multioutput, dtype)\u001b[0m\n\u001b[1;32m     <a href='file:///opt/homebrew/Caskroom/miniforge/base/envs/ccenv/lib/python3.9/site-packages/sklearn/metrics/_regression.py?line=60'>61</a>\u001b[0m \u001b[39m\"\"\"Check that y_true and y_pred belong to the same regression task.\u001b[39;00m\n\u001b[1;32m     <a href='file:///opt/homebrew/Caskroom/miniforge/base/envs/ccenv/lib/python3.9/site-packages/sklearn/metrics/_regression.py?line=61'>62</a>\u001b[0m \n\u001b[1;32m     <a href='file:///opt/homebrew/Caskroom/miniforge/base/envs/ccenv/lib/python3.9/site-packages/sklearn/metrics/_regression.py?line=62'>63</a>\u001b[0m \u001b[39mParameters\u001b[39;00m\n\u001b[0;32m   (...)\u001b[0m\n\u001b[1;32m     <a href='file:///opt/homebrew/Caskroom/miniforge/base/envs/ccenv/lib/python3.9/site-packages/sklearn/metrics/_regression.py?line=91'>92</a>\u001b[0m \u001b[39m    the dtype argument passed to check_array.\u001b[39;00m\n\u001b[1;32m     <a href='file:///opt/homebrew/Caskroom/miniforge/base/envs/ccenv/lib/python3.9/site-packages/sklearn/metrics/_regression.py?line=92'>93</a>\u001b[0m \u001b[39m\"\"\"\u001b[39;00m\n\u001b[1;32m     <a href='file:///opt/homebrew/Caskroom/miniforge/base/envs/ccenv/lib/python3.9/site-packages/sklearn/metrics/_regression.py?line=93'>94</a>\u001b[0m check_consistent_length(y_true, y_pred)\n\u001b[0;32m---> <a href='file:///opt/homebrew/Caskroom/miniforge/base/envs/ccenv/lib/python3.9/site-packages/sklearn/metrics/_regression.py?line=94'>95</a>\u001b[0m y_true \u001b[39m=\u001b[39m check_array(y_true, ensure_2d\u001b[39m=\u001b[39;49m\u001b[39mFalse\u001b[39;49;00m, dtype\u001b[39m=\u001b[39;49mdtype)\n\u001b[1;32m     <a href='file:///opt/homebrew/Caskroom/miniforge/base/envs/ccenv/lib/python3.9/site-packages/sklearn/metrics/_regression.py?line=95'>96</a>\u001b[0m y_pred \u001b[39m=\u001b[39m check_array(y_pred, ensure_2d\u001b[39m=\u001b[39m\u001b[39mFalse\u001b[39;00m, dtype\u001b[39m=\u001b[39mdtype)\n\u001b[1;32m     <a href='file:///opt/homebrew/Caskroom/miniforge/base/envs/ccenv/lib/python3.9/site-packages/sklearn/metrics/_regression.py?line=97'>98</a>\u001b[0m \u001b[39mif\u001b[39;00m y_true\u001b[39m.\u001b[39mndim \u001b[39m==\u001b[39m \u001b[39m1\u001b[39m:\n",
      "File \u001b[0;32m/opt/homebrew/Caskroom/miniforge/base/envs/ccenv/lib/python3.9/site-packages/sklearn/utils/validation.py:746\u001b[0m, in \u001b[0;36mcheck_array\u001b[0;34m(array, accept_sparse, accept_large_sparse, dtype, order, copy, force_all_finite, ensure_2d, allow_nd, ensure_min_samples, ensure_min_features, estimator)\u001b[0m\n\u001b[1;32m    <a href='file:///opt/homebrew/Caskroom/miniforge/base/envs/ccenv/lib/python3.9/site-packages/sklearn/utils/validation.py?line=743'>744</a>\u001b[0m         array \u001b[39m=\u001b[39m array\u001b[39m.\u001b[39mastype(dtype, casting\u001b[39m=\u001b[39m\u001b[39m\"\u001b[39m\u001b[39munsafe\u001b[39m\u001b[39m\"\u001b[39m, copy\u001b[39m=\u001b[39m\u001b[39mFalse\u001b[39;00m)\n\u001b[1;32m    <a href='file:///opt/homebrew/Caskroom/miniforge/base/envs/ccenv/lib/python3.9/site-packages/sklearn/utils/validation.py?line=744'>745</a>\u001b[0m     \u001b[39melse\u001b[39;00m:\n\u001b[0;32m--> <a href='file:///opt/homebrew/Caskroom/miniforge/base/envs/ccenv/lib/python3.9/site-packages/sklearn/utils/validation.py?line=745'>746</a>\u001b[0m         array \u001b[39m=\u001b[39m np\u001b[39m.\u001b[39;49masarray(array, order\u001b[39m=\u001b[39;49morder, dtype\u001b[39m=\u001b[39;49mdtype)\n\u001b[1;32m    <a href='file:///opt/homebrew/Caskroom/miniforge/base/envs/ccenv/lib/python3.9/site-packages/sklearn/utils/validation.py?line=746'>747</a>\u001b[0m \u001b[39mexcept\u001b[39;00m ComplexWarning \u001b[39mas\u001b[39;00m complex_warning:\n\u001b[1;32m    <a href='file:///opt/homebrew/Caskroom/miniforge/base/envs/ccenv/lib/python3.9/site-packages/sklearn/utils/validation.py?line=747'>748</a>\u001b[0m     \u001b[39mraise\u001b[39;00m \u001b[39mValueError\u001b[39;00m(\n\u001b[1;32m    <a href='file:///opt/homebrew/Caskroom/miniforge/base/envs/ccenv/lib/python3.9/site-packages/sklearn/utils/validation.py?line=748'>749</a>\u001b[0m         \u001b[39m\"\u001b[39m\u001b[39mComplex data not supported\u001b[39m\u001b[39m\\n\u001b[39;00m\u001b[39m{}\u001b[39;00m\u001b[39m\\n\u001b[39;00m\u001b[39m\"\u001b[39m\u001b[39m.\u001b[39mformat(array)\n\u001b[1;32m    <a href='file:///opt/homebrew/Caskroom/miniforge/base/envs/ccenv/lib/python3.9/site-packages/sklearn/utils/validation.py?line=749'>750</a>\u001b[0m     ) \u001b[39mfrom\u001b[39;00m \u001b[39mcomplex_warning\u001b[39;00m\n",
      "File \u001b[0;32m/opt/homebrew/Caskroom/miniforge/base/envs/ccenv/lib/python3.9/site-packages/pandas/core/series.py:872\u001b[0m, in \u001b[0;36mSeries.__array__\u001b[0;34m(self, dtype)\u001b[0m\n\u001b[1;32m    <a href='file:///opt/homebrew/Caskroom/miniforge/base/envs/ccenv/lib/python3.9/site-packages/pandas/core/series.py?line=824'>825</a>\u001b[0m \u001b[39mdef\u001b[39;00m \u001b[39m__array__\u001b[39m(\u001b[39mself\u001b[39m, dtype: npt\u001b[39m.\u001b[39mDTypeLike \u001b[39m|\u001b[39m \u001b[39mNone\u001b[39;00m \u001b[39m=\u001b[39m \u001b[39mNone\u001b[39;00m) \u001b[39m-\u001b[39m\u001b[39m>\u001b[39m np\u001b[39m.\u001b[39mndarray:\n\u001b[1;32m    <a href='file:///opt/homebrew/Caskroom/miniforge/base/envs/ccenv/lib/python3.9/site-packages/pandas/core/series.py?line=825'>826</a>\u001b[0m     \u001b[39m\"\"\"\u001b[39;00m\n\u001b[1;32m    <a href='file:///opt/homebrew/Caskroom/miniforge/base/envs/ccenv/lib/python3.9/site-packages/pandas/core/series.py?line=826'>827</a>\u001b[0m \u001b[39m    Return the values as a NumPy array.\u001b[39;00m\n\u001b[1;32m    <a href='file:///opt/homebrew/Caskroom/miniforge/base/envs/ccenv/lib/python3.9/site-packages/pandas/core/series.py?line=827'>828</a>\u001b[0m \n\u001b[0;32m   (...)\u001b[0m\n\u001b[1;32m    <a href='file:///opt/homebrew/Caskroom/miniforge/base/envs/ccenv/lib/python3.9/site-packages/pandas/core/series.py?line=869'>870</a>\u001b[0m \u001b[39m          dtype='datetime64[ns]')\u001b[39;00m\n\u001b[1;32m    <a href='file:///opt/homebrew/Caskroom/miniforge/base/envs/ccenv/lib/python3.9/site-packages/pandas/core/series.py?line=870'>871</a>\u001b[0m \u001b[39m    \"\"\"\u001b[39;00m\n\u001b[0;32m--> <a href='file:///opt/homebrew/Caskroom/miniforge/base/envs/ccenv/lib/python3.9/site-packages/pandas/core/series.py?line=871'>872</a>\u001b[0m     \u001b[39mreturn\u001b[39;00m np\u001b[39m.\u001b[39;49masarray(\u001b[39mself\u001b[39;49m\u001b[39m.\u001b[39;49m_values, dtype)\n",
      "\u001b[0;31mValueError\u001b[0m: could not convert string to float: 'Fairly good'"
     ]
    }
   ],
   "source": [
    "print('MAE train for Logistic Regression:', mean_absolute_error(neighbourhood_train, rf_pipe.predict(X_train)))\n",
    "print('MAE test for Logistic Regression:', mean_absolute_error(neighbourhood_test, rf_pipe.predict(X_test)))"
   ]
  },
  {
   "cell_type": "markdown",
   "id": "db9d47f3",
   "metadata": {},
   "source": [
    "The mean absolute error for the test and train sets is very similar, suggesting that the model is not over-fitting."
   ]
  },
  {
   "cell_type": "code",
   "execution_count": 353,
   "id": "41deb0ab",
   "metadata": {},
   "outputs": [
    {
     "name": "stdout",
     "output_type": "stream",
     "text": [
      "Logistic Regression model train mean accuracy: 0.46291486551455296.\n",
      "Logistic Regression model test mean accuracy: 0.4047675588317749.\n"
     ]
    }
   ],
   "source": [
    "print(f\"Logistic Regression model train mean accuracy: {cross_val_score(rf_pipe, X_train, neighbourhood_train, scoring='accuracy', cv=5).mean()}.\");\n",
    "print(f\"Logistic Regression model test mean accuracy: {cross_val_score(rf_pipe, X_test, neighbourhood_test, scoring='accuracy', cv=5).mean()}.\");"
   ]
  },
  {
   "cell_type": "markdown",
   "id": "b1b8cab9",
   "metadata": {},
   "source": [
    "Accuracy is good for this model, and similar in the test and train sets."
   ]
  },
  {
   "cell_type": "code",
   "execution_count": 354,
   "id": "5dd20bfb",
   "metadata": {},
   "outputs": [
    {
     "ename": "ValueError",
     "evalue": "could not convert string to float: 'All'",
     "output_type": "error",
     "traceback": [
      "\u001b[0;31m---------------------------------------------------------------------------\u001b[0m",
      "\u001b[0;31mValueError\u001b[0m                                Traceback (most recent call last)",
      "\u001b[1;32m/Users/reu/codeclan/survey_project/predictive_modelling.ipynb Cell 47'\u001b[0m in \u001b[0;36m<module>\u001b[0;34m\u001b[0m\n\u001b[0;32m----> <a href='vscode-notebook-cell:/Users/reu/codeclan/survey_project/predictive_modelling.ipynb#ch0000061?line=0'>1</a>\u001b[0m \u001b[39mprint\u001b[39m(\u001b[39m'\u001b[39m\u001b[39mAUC train for Logistic Regression:\u001b[39m\u001b[39m'\u001b[39m, roc_auc_score(neighbourhood_train, rf_pipe\u001b[39m.\u001b[39;49mpredict(X_train)))\n\u001b[1;32m      <a href='vscode-notebook-cell:/Users/reu/codeclan/survey_project/predictive_modelling.ipynb#ch0000061?line=1'>2</a>\u001b[0m \u001b[39mprint\u001b[39m(\u001b[39m'\u001b[39m\u001b[39mAUC test for Logistic Regression:\u001b[39m\u001b[39m'\u001b[39m, roc_auc_score(neighbourhood_test, rf_pipe\u001b[39m.\u001b[39mpredict(X_test)))\n",
      "File \u001b[0;32m/opt/homebrew/Caskroom/miniforge/base/envs/ccenv/lib/python3.9/site-packages/sklearn/metrics/_ranking.py:546\u001b[0m, in \u001b[0;36mroc_auc_score\u001b[0;34m(y_true, y_score, average, sample_weight, max_fpr, multi_class, labels)\u001b[0m\n\u001b[1;32m    <a href='file:///opt/homebrew/Caskroom/miniforge/base/envs/ccenv/lib/python3.9/site-packages/sklearn/metrics/_ranking.py?line=543'>544</a>\u001b[0m y_type \u001b[39m=\u001b[39m type_of_target(y_true)\n\u001b[1;32m    <a href='file:///opt/homebrew/Caskroom/miniforge/base/envs/ccenv/lib/python3.9/site-packages/sklearn/metrics/_ranking.py?line=544'>545</a>\u001b[0m y_true \u001b[39m=\u001b[39m check_array(y_true, ensure_2d\u001b[39m=\u001b[39m\u001b[39mFalse\u001b[39;00m, dtype\u001b[39m=\u001b[39m\u001b[39mNone\u001b[39;00m)\n\u001b[0;32m--> <a href='file:///opt/homebrew/Caskroom/miniforge/base/envs/ccenv/lib/python3.9/site-packages/sklearn/metrics/_ranking.py?line=545'>546</a>\u001b[0m y_score \u001b[39m=\u001b[39m check_array(y_score, ensure_2d\u001b[39m=\u001b[39;49m\u001b[39mFalse\u001b[39;49;00m)\n\u001b[1;32m    <a href='file:///opt/homebrew/Caskroom/miniforge/base/envs/ccenv/lib/python3.9/site-packages/sklearn/metrics/_ranking.py?line=547'>548</a>\u001b[0m \u001b[39mif\u001b[39;00m y_type \u001b[39m==\u001b[39m \u001b[39m\"\u001b[39m\u001b[39mmulticlass\u001b[39m\u001b[39m\"\u001b[39m \u001b[39mor\u001b[39;00m (\n\u001b[1;32m    <a href='file:///opt/homebrew/Caskroom/miniforge/base/envs/ccenv/lib/python3.9/site-packages/sklearn/metrics/_ranking.py?line=548'>549</a>\u001b[0m     y_type \u001b[39m==\u001b[39m \u001b[39m\"\u001b[39m\u001b[39mbinary\u001b[39m\u001b[39m\"\u001b[39m \u001b[39mand\u001b[39;00m y_score\u001b[39m.\u001b[39mndim \u001b[39m==\u001b[39m \u001b[39m2\u001b[39m \u001b[39mand\u001b[39;00m y_score\u001b[39m.\u001b[39mshape[\u001b[39m1\u001b[39m] \u001b[39m>\u001b[39m \u001b[39m2\u001b[39m\n\u001b[1;32m    <a href='file:///opt/homebrew/Caskroom/miniforge/base/envs/ccenv/lib/python3.9/site-packages/sklearn/metrics/_ranking.py?line=549'>550</a>\u001b[0m ):\n\u001b[1;32m    <a href='file:///opt/homebrew/Caskroom/miniforge/base/envs/ccenv/lib/python3.9/site-packages/sklearn/metrics/_ranking.py?line=550'>551</a>\u001b[0m     \u001b[39m# do not support partial ROC computation for multiclass\u001b[39;00m\n\u001b[1;32m    <a href='file:///opt/homebrew/Caskroom/miniforge/base/envs/ccenv/lib/python3.9/site-packages/sklearn/metrics/_ranking.py?line=551'>552</a>\u001b[0m     \u001b[39mif\u001b[39;00m max_fpr \u001b[39mis\u001b[39;00m \u001b[39mnot\u001b[39;00m \u001b[39mNone\u001b[39;00m \u001b[39mand\u001b[39;00m max_fpr \u001b[39m!=\u001b[39m \u001b[39m1.0\u001b[39m:\n",
      "File \u001b[0;32m/opt/homebrew/Caskroom/miniforge/base/envs/ccenv/lib/python3.9/site-packages/sklearn/utils/validation.py:746\u001b[0m, in \u001b[0;36mcheck_array\u001b[0;34m(array, accept_sparse, accept_large_sparse, dtype, order, copy, force_all_finite, ensure_2d, allow_nd, ensure_min_samples, ensure_min_features, estimator)\u001b[0m\n\u001b[1;32m    <a href='file:///opt/homebrew/Caskroom/miniforge/base/envs/ccenv/lib/python3.9/site-packages/sklearn/utils/validation.py?line=743'>744</a>\u001b[0m         array \u001b[39m=\u001b[39m array\u001b[39m.\u001b[39mastype(dtype, casting\u001b[39m=\u001b[39m\u001b[39m\"\u001b[39m\u001b[39munsafe\u001b[39m\u001b[39m\"\u001b[39m, copy\u001b[39m=\u001b[39m\u001b[39mFalse\u001b[39;00m)\n\u001b[1;32m    <a href='file:///opt/homebrew/Caskroom/miniforge/base/envs/ccenv/lib/python3.9/site-packages/sklearn/utils/validation.py?line=744'>745</a>\u001b[0m     \u001b[39melse\u001b[39;00m:\n\u001b[0;32m--> <a href='file:///opt/homebrew/Caskroom/miniforge/base/envs/ccenv/lib/python3.9/site-packages/sklearn/utils/validation.py?line=745'>746</a>\u001b[0m         array \u001b[39m=\u001b[39m np\u001b[39m.\u001b[39;49masarray(array, order\u001b[39m=\u001b[39;49morder, dtype\u001b[39m=\u001b[39;49mdtype)\n\u001b[1;32m    <a href='file:///opt/homebrew/Caskroom/miniforge/base/envs/ccenv/lib/python3.9/site-packages/sklearn/utils/validation.py?line=746'>747</a>\u001b[0m \u001b[39mexcept\u001b[39;00m ComplexWarning \u001b[39mas\u001b[39;00m complex_warning:\n\u001b[1;32m    <a href='file:///opt/homebrew/Caskroom/miniforge/base/envs/ccenv/lib/python3.9/site-packages/sklearn/utils/validation.py?line=747'>748</a>\u001b[0m     \u001b[39mraise\u001b[39;00m \u001b[39mValueError\u001b[39;00m(\n\u001b[1;32m    <a href='file:///opt/homebrew/Caskroom/miniforge/base/envs/ccenv/lib/python3.9/site-packages/sklearn/utils/validation.py?line=748'>749</a>\u001b[0m         \u001b[39m\"\u001b[39m\u001b[39mComplex data not supported\u001b[39m\u001b[39m\\n\u001b[39;00m\u001b[39m{}\u001b[39;00m\u001b[39m\\n\u001b[39;00m\u001b[39m\"\u001b[39m\u001b[39m.\u001b[39mformat(array)\n\u001b[1;32m    <a href='file:///opt/homebrew/Caskroom/miniforge/base/envs/ccenv/lib/python3.9/site-packages/sklearn/utils/validation.py?line=749'>750</a>\u001b[0m     ) \u001b[39mfrom\u001b[39;00m \u001b[39mcomplex_warning\u001b[39;00m\n",
      "\u001b[0;31mValueError\u001b[0m: could not convert string to float: 'All'"
     ]
    }
   ],
   "source": [
    "print('AUC train for Logistic Regression:', roc_auc_score(neighbourhood_train, rf_pipe.predict(X_train)))\n",
    "print('AUC test for Logistic Regression:', roc_auc_score(neighbourhood_test, rf_pipe.predict(X_test)))"
   ]
  }
 ],
 "metadata": {
  "interpreter": {
   "hash": "19852a196fd513f56c631f664a06f1e7288ab279af1c280e9fd876260f4d16d2"
  },
  "kernelspec": {
   "display_name": "Python 3 (ipykernel)",
   "language": "python",
   "name": "python3"
  },
  "language_info": {
   "codemirror_mode": {
    "name": "ipython",
    "version": 3
   },
   "file_extension": ".py",
   "mimetype": "text/x-python",
   "name": "python",
   "nbconvert_exporter": "python",
   "pygments_lexer": "ipython3",
   "version": "3.9.10"
  },
  "toc": {
   "base_numbering": 1,
   "nav_menu": {},
   "number_sections": true,
   "sideBar": true,
   "skip_h1_title": false,
   "title_cell": "Table of Contents",
   "title_sidebar": "Contents",
   "toc_cell": false,
   "toc_position": {},
   "toc_section_display": true,
   "toc_window_display": false
  },
  "varInspector": {
   "cols": {
    "lenName": 16,
    "lenType": 16,
    "lenVar": 40
   },
   "kernels_config": {
    "python": {
     "delete_cmd_postfix": "",
     "delete_cmd_prefix": "del ",
     "library": "var_list.py",
     "varRefreshCmd": "print(var_dic_list())"
    },
    "r": {
     "delete_cmd_postfix": ") ",
     "delete_cmd_prefix": "rm(",
     "library": "var_list.r",
     "varRefreshCmd": "cat(var_dic_list()) "
    }
   },
   "types_to_exclude": [
    "module",
    "function",
    "builtin_function_or_method",
    "instance",
    "_Feature"
   ],
   "window_display": false
  }
 },
 "nbformat": 4,
 "nbformat_minor": 5
}
